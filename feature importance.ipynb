{
 "cells": [
  {
   "cell_type": "code",
   "execution_count": 8,
   "metadata": {},
   "outputs": [],
   "source": [
    "import numpy as np\n",
    "import pandas as pd\n",
    "import xgboost as xgb\n",
    "import matplotlib.pyplot as plt\n",
    "from sklearn.model_selection import train_test_split\n",
    "\n",
    "df = pd.read_csv(\"/work/aavocone/large_set.csv\")"
   ]
  },
  {
   "cell_type": "code",
   "execution_count": 9,
   "metadata": {},
   "outputs": [],
   "source": [
    "\n",
    "#test train split\n",
    "X = df[df.columns[:-3]]    #exclude \"signal\" \"classification\" \"B_sig_isSignalAcceptMissingNeutrino\"\n",
    "y = df[\"signal\"]            \n",
    "xtrain,xtest,ytrain,ytest = train_test_split(X, y, test_size = 0.33, stratify = y)\n",
    "xtrain,xval,ytrain,yval = train_test_split(xtrain, ytrain, test_size = 0.5, stratify= ytrain)\n",
    "\n",
    "model50 = xgb.XGBClassifier()\n",
    "model50.load_model(\"/work/aavocone/models/model50.txt\")\n",
    "y50_train = model50.predict_proba(xtrain)[:,1]\n",
    "y50 = model50.predict_proba(xtest)[:,1]\n",
    "\n",
    "model100 = xgb.XGBClassifier()\n",
    "model100.load_model(\"/work/aavocone/models/model100.txt\")\n",
    "y100_train = model100.predict_proba(xtrain)[:,1]\n",
    "y100 = model100.predict_proba(xtest)[:,1]\n",
    "\n",
    "model200 = xgb.XGBClassifier()\n",
    "model200.load_model(\"/work/aavocone/models/model200.txt\")\n",
    "y200_train = model200.predict_proba(xtrain)[:,1]\n",
    "y200 = model200.predict_proba(xtest)[:,1]\n",
    "\n",
    "model500 = xgb.XGBClassifier()\n",
    "model500.load_model(\"/work/aavocone/models/model500.txt\")\n",
    "y500_train = model500.predict_proba(xtrain)[:,1]\n",
    "y500 = model500.predict_proba(xtest)[:,1]"
   ]
  },
  {
   "cell_type": "code",
   "execution_count": 10,
   "metadata": {},
   "outputs": [
    {
     "data": {
      "text/plain": [
       "<BarContainer object of 15 artists>"
      ]
     },
     "execution_count": 10,
     "metadata": {},
     "output_type": "execute_result"
    },
    {
     "data": {
      "image/png": "[encoded data removed]",
      "text/plain": [
       "<Figure size 432x288 with 1 Axes>"
      ]
     },
     "metadata": {
      "needs_background": "light"
     },
     "output_type": "display_data"
    }
   ],
   "source": [
    "ranking50 = model50.feature_importances_\n",
    "\n",
    "plt.barh(xtrain.columns,ranking50)"
   ]
  },
  {
   "cell_type": "code",
   "execution_count": null,
   "metadata": {},
   "outputs": [],
   "source": []
  }
 ],
 "metadata": {
  "kernelspec": {
   "display_name": "Python 3.8.13 ('Bachelor': conda)",
   "language": "python",
   "name": "python3"
  },
  "language_info": {
   "codemirror_mode": {
    "name": "ipython",
    "version": 3
   },
   "file_extension": ".py",
   "mimetype": "text/x-python",
   "name": "python",
   "nbconvert_exporter": "python",
   "pygments_lexer": "ipython3",
   "version": "3.8.13"
  },
  "orig_nbformat": 4,
  "vscode": {
   "interpreter": {
    "hash": "8fa6b6c428d539fc06232ec94d1d357953a237439554a85c30960535ca4a6246"
   }
  }
 },
 "nbformat": 4,
 "nbformat_minor": 2
}
