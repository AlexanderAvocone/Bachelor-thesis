{
 "cells": [
  {
   "cell_type": "code",
   "execution_count": null,
   "metadata": {},
   "outputs": [],
   "source": [
    "import numpy as np\n",
    "import pandas as pd\n",
    "import xgboost as xgb\n",
    "import matplotlib.pyplot as plt\n",
    "import functions as fc\n",
    "import seaborn as sns\n",
    "\n",
    "\n",
    "df = pd.read_csv(\"/work/aavocone/large_set.csv\")\n",
    "\n",
    "from xgboost import XGBClassifier\n",
    "from sklearn.model_selection import train_test_split\n",
    "\n",
    "#test train split\n",
    "X = df[df.columns[:-3]]    #exclude \"signal\" \"classification\" \"B_sig_isSignalAcceptMissingNeutrino\"\n",
    "y = df[\"signal\"]            \n",
    "xtrain,xtest,ytrain,ytest = train_test_split(X, y, test_size = 0.33, stratify = y)\n",
    "xtrain,xval,ytrain,yval = train_test_split(xtrain, ytrain, test_size = 0.5)\n",
    "\n",
    "\n",
    "\n",
    "weight = (len(ytest)-sum(ytest))/sum(ytest)\n",
    "\n",
    "for estimator in range(600,1001,100):\n",
    "\n",
    "    model     = XGBClassifier(n_estimators = estimator, learning_rate = 0.2, eval_metric = \"logloss\", scale_pos_weight = weight, use_label_encoder =False)\n",
    "    model.fit(xtrain,ytrain)\n",
    "    model.save_model(f\"/work/aavocone/models/model{estimator}.txt\")\n",
    "\n"
   ]
  },
  {
   "cell_type": "code",
   "execution_count": null,
   "metadata": {},
   "outputs": [],
   "source": [
    "df = pd.read_csv(\"/work/aavocone/small_set.csv\")\n",
    "\n",
    "from xgboost import XGBClassifier\n",
    "from sklearn.model_selection import train_test_split\n",
    "\n",
    "#test train split\n",
    "X = df[df.columns[:-3]]    #exclude \"signal\" \"classification\" \"B_sig_isSignalAcceptMissingNeutrino\"\n",
    "y = df[\"signal\"]            \n",
    "xtrain,xtest,ytrain,ytest = train_test_split(X, y, test_size = 0.33, stratify = y)\n",
    "xtrain,xval,ytrain,yval = train_test_split(xtrain, ytrain, test_size = 0.5)\n",
    "\n",
    "\n",
    "\n",
    "weight = (len(ytest)-sum(ytest))/sum(ytest)\n",
    "\n",
    "for estimator in range(400,1001,100):\n",
    "\n",
    "    model     = XGBClassifier(n_estimators = estimator, learning_rate = 0.2, eval_metric = \"logloss\", scale_pos_weight = weight, use_label_encoder =False)\n",
    "    model.fit(xtrain,ytrain)\n",
    "    model.save_model(f\"/work/aavocone/models/model{estimator}_small.txt\")"
   ]
  }
 ],
 "metadata": {
  "kernelspec": {
   "display_name": "Python 3.8.13 ('Bachelor': conda)",
   "language": "python",
   "name": "python3"
  },
  "language_info": {
   "name": "python",
   "version": "3.8.13"
  },
  "orig_nbformat": 4,
  "vscode": {
   "interpreter": {
    "hash": "8fa6b6c428d539fc06232ec94d1d357953a237439554a85c30960535ca4a6246"
   }
  }
 },
 "nbformat": 4,
 "nbformat_minor": 2
}
