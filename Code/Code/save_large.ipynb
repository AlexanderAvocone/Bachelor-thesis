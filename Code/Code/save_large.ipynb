{
 "cells": [
  {
   "cell_type": "markdown",
   "metadata": {},
   "source": [
    "## 3 GeV to parquet"
   ]
  },
  {
   "cell_type": "code",
   "execution_count": 1,
   "metadata": {},
   "outputs": [],
   "source": [
    "import uproot\n",
    "import numpy as np\n",
    "import pandas as pd\n",
    "import pyarrow as pa\n",
    "import pyarrow.parquet as pq\n"
   ]
  },
  {
   "cell_type": "code",
   "execution_count": 3,
   "metadata": {},
   "outputs": [],
   "source": [
    "\n",
    "index = ['B_sig_K_dr', 'B_sig_K_dz', 'B_sig_CleoConeCS_3_ROE',\n",
    "       'thrustAxisCosTheta', 'aplanarity', 'sphericity',\n",
    "       'harmonicMomentThrust0', 'harmonicMomentThrust1',\n",
    "       'harmonicMomentThrust2', 'harmonicMomentThrust3',\n",
    "       'harmonicMomentThrust4', 'foxWolframR1', 'foxWolframR2', 'foxWolframR3',\n",
    "       'foxWolframR4','B_sig_isSignalAcceptMissingNeutrino']\n",
    "\n",
    "data0 = uproot.open(\"/ceph/aavocone/Data/processed_simulation_B_K_a_nunu_ma_1_5_GeV_100000_events_nobdtcut.root:tree_Bsig;1\").arrays(index, library =\"pd\")\n",
    "data1 = uproot.open(\"/ceph/aavocone/Data/processed_simulation_B_K_a_nunu_ma_2_5_GeV_100000_events_nobdtcut.root:tree_Bsig;1\").arrays(index, library =\"pd\")\n",
    "data2 = uproot.open(\"/ceph/aavocone/Data/processed_simulation_B_K_a_nunu_ma_3_5_GeV_100000_events_nobdtcut.root:tree_Bsig;1\").arrays(index, library =\"pd\")\n",
    "\n",
    "data3 = uproot.open(\"/ceph/aavocone/Data/processed_simulation_B_K_a_nunu_ma_4_61_GeV_100000_events_nobdtcut.root:tree_Bsig;1\").arrays(index, library =\"pd\")\n",
    "data4 = uproot.open(\"/ceph/aavocone/Data/processed_simulation_B_K_a_nunu_ma_4_62_GeV_100000_events_nobdtcut.root:tree_Bsig;1\").arrays(index, library =\"pd\")\n",
    "data5 = uproot.open(\"/ceph/aavocone/Data/processed_simulation_B_K_a_nunu_ma_4_63_GeV_100000_events_nobdtcut.root:tree_Bsig;1\").arrays(index, library =\"pd\")\n",
    "data6 = uproot.open(\"/ceph/aavocone/Data/processed_simulation_B_K_a_nunu_ma_4_64_GeV_100000_events_nobdtcut.root:tree_Bsig;1\").arrays(index, library =\"pd\")\n",
    "data7 = uproot.open(\"/ceph/aavocone/Data/processed_simulation_B_K_a_nunu_ma_4_7_GeV_100000_events_nobdtcut.root:tree_Bsig;1\").arrays(index, library =\"pd\")\n",
    "\n",
    "\n",
    "\n",
    "background = pq.read_table(f\"/ceph/aavocone/Datasets/background.parquet\")\n",
    "background = background.to_pandas()\n",
    "\n",
    "data = [data0, data1, data2, data3, data4, data5, data6, data7]\n",
    "names = [\"1_5_large\",\"2_5_large\",\"3_5_large\",\"4_61_large\", \"4_62_large\",\"4_63_large\",\"4_64_large\",\"4_7_large\"]\n",
    "\n",
    "\n",
    "for i in range(len(names)):\n",
    "    sets =[data[i],background]\n",
    "    data[i][\"signal\"]  = np.ones(len(data[i]))\n",
    "    data[i].drop(data[i][data[i][\"B_sig_isSignalAcceptMissingNeutrino\"]==0.0].index, inplace = True)\n",
    "    df = pd.concat(sets)\n",
    "    df.drop(\"B_sig_isSignalAcceptMissingNeutrino\", axis=1, inplace= True)\n",
    "    table = pa.Table.from_pandas(df,nthreads = 1)\n",
    "    pq.write_table(table, f\"/ceph/aavocone/Datasets/{names[i]}.parquet\")\n"
   ]
  },
  {
   "cell_type": "code",
   "execution_count": 4,
   "metadata": {},
   "outputs": [],
   "source": [
    "\n",
    "index = ['B_sig_K_dr', 'B_sig_K_dz', 'B_sig_CleoConeCS_3_ROE',\n",
    "       'thrustAxisCosTheta', 'aplanarity', 'sphericity',\n",
    "       'harmonicMomentThrust0', 'harmonicMomentThrust1',\n",
    "       'harmonicMomentThrust2', 'harmonicMomentThrust3',\n",
    "       'harmonicMomentThrust4', 'foxWolframR1', 'foxWolframR2', 'foxWolframR3',\n",
    "       'foxWolframR4','B_sig_isSignalAcceptMissingNeutrino']\n",
    "\n",
    "data0 = uproot.open(\"/ceph/aavocone/Data/processed_simulation_B_K_a_nunu_ma_1_GeV_100000_events_nobdtcut.root:tree_Bsig;1\").arrays(index, library =\"pd\")\n",
    "data3 = uproot.open(\"/ceph/aavocone/Data/processed_simulation_B_K_a_nunu_ma_2_GeV_100000_events_nobdtcut.root:tree_Bsig;1\").arrays(index, library =\"pd\")\n",
    "data4 = uproot.open(\"/ceph/aavocone/Data/processed_simulation_B_K_a_nunu_ma_4_GeV_100000_events_nobdtcut.root:tree_Bsig;1\").arrays(index, library =\"pd\")\n",
    "background = pq.read_table(f\"/ceph/aavocone/Datasets/background.parquet\")\n",
    "background = background.to_pandas()\n",
    "\n",
    "data = [data0,data3,data4]\n",
    "names = [\"1_large\",\"2_large\",\"4_0_large\"]\n",
    "\n",
    "\n",
    "for i in range(len(names)):\n",
    "    sets =[data[i],background]\n",
    "    data[i][\"signal\"]  = np.ones(len(data[i]))\n",
    "    data[i].drop(data[i][data[i][\"B_sig_isSignalAcceptMissingNeutrino\"]==0.0].index, inplace = True)\n",
    "    df = pd.concat(sets)\n",
    "    df.drop(\"B_sig_isSignalAcceptMissingNeutrino\", axis=1, inplace= True)\n",
    "    table = pa.Table.from_pandas(df,nthreads = 1)\n",
    "    pq.write_table(table, f\"/ceph/aavocone/Datasets/{names[i]}.parquet\")\n",
    "\n"
   ]
  },
  {
   "cell_type": "code",
   "execution_count": 8,
   "metadata": {},
   "outputs": [
    {
     "name": "stdout",
     "output_type": "stream",
     "text": [
      "8553.0\n",
      "20067.0\n",
      "26090.0\n"
     ]
    }
   ],
   "source": []
  },
  {
   "cell_type": "code",
   "execution_count": null,
   "metadata": {},
   "outputs": [],
   "source": []
  }
 ],
 "metadata": {
  "kernelspec": {
   "display_name": "Python 3.8.13 ('Bachelor': conda)",
   "language": "python",
   "name": "python3"
  },
  "language_info": {
   "codemirror_mode": {
    "name": "ipython",
    "version": 3
   },
   "file_extension": ".py",
   "mimetype": "text/x-python",
   "name": "python",
   "nbconvert_exporter": "python",
   "pygments_lexer": "ipython3",
   "version": "3.8.13"
  },
  "orig_nbformat": 4,
  "vscode": {
   "interpreter": {
    "hash": "8fa6b6c428d539fc06232ec94d1d357953a237439554a85c30960535ca4a6246"
   }
  }
 },
 "nbformat": 4,
 "nbformat_minor": 2
}
