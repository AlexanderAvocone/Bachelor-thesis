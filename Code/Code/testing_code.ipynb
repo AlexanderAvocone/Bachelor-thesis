{
 "cells": [
  {
   "cell_type": "code",
   "execution_count": 3,
   "metadata": {},
   "outputs": [],
   "source": [
    "import numpy as np\n",
    "import pandas as pd\n",
    "import pyarrow.parquet as pq\n",
    "from xgboost import XGBClassifier\n",
    "from sklearn.model_selection import train_test_split\n",
    "import matplotlib.pyplot as plt\n",
    "\n",
    "\n",
    "\n",
    "data = [\"model50\",\"3_141\",\"3_200\",\"3_0_500\",\"3_800\",\"3_1000\",\"3_1200\",\"3_1500\",\"3_2000\"]\n",
    "legends =[\"50\",\"141\",\"200\",\"500\",\"800\",\"1000\",\"1200\",\"1500\",\"2000\"]\n",
    "S_list = []\n",
    "maximum = []\n",
    "eff = []\n",
    "bkg = []\n",
    "\n",
    "\n",
    "\n",
    "\n",
    "\n",
    "\n",
    "S_list = []\n",
    "\n",
    "pfom_list = []\n",
    "maximum = []\n",
    "\n",
    "\n",
    "clf = XGBClassifier()\n",
    "clf.load_model(f\"/ceph/aavocone/models/model50.txt\")"
   ]
  },
  {
   "cell_type": "code",
   "execution_count": 2,
   "metadata": {},
   "outputs": [
    {
     "name": "stdout",
     "output_type": "stream",
     "text": [
      "sum to len ratio in % 0.014432916803156757\n",
      "sum to len ratio in % 0.014435073993239898\n",
      "Cut at xgb probability 0.94\n",
      "Number of background events after cut: 45678\n",
      "PFOM max: 0.0007058388285859196\n",
      "Number of sensitivity events: 0.12\n",
      "Sensitivity: 2.6275120303333973e-06\n",
      "--------------------------------------------------------\n",
      "sum to len ratio in % 0.014435073993239898\n",
      "Cut at xgb probability 0.95\n",
      "Number of background events after cut: 37133\n",
      "PFOM max: 0.0007058388285859196\n",
      "Number of sensitivity events: 0.12\n",
      "Sensitivity: 3.3547637694243667e-06\n",
      "--------------------------------------------------------\n",
      "sum to len ratio in % 0.014435073993239898\n",
      "Cut at xgb probability 0.95\n",
      "Number of background events after cut: 37126\n",
      "PFOM max: 0.0007058388285859196\n",
      "Number of sensitivity events: 0.12\n",
      "Sensitivity: 3.3307527654333137e-06\n",
      "--------------------------------------------------------\n",
      "sum to len ratio in % 0.014435073993239898\n",
      "Cut at xgb probability 0.95\n",
      "Number of background events after cut: 37022\n",
      "PFOM max: 0.0007058388285859196\n",
      "Number of sensitivity events: 0.12\n",
      "Sensitivity: 3.2824124018759342e-06\n",
      "--------------------------------------------------------\n",
      "sum to len ratio in % 0.014435073993239898\n",
      "Cut at xgb probability 0.96\n",
      "Number of background events after cut: 28555\n",
      "PFOM max: 0.0007058388285859196\n",
      "Number of sensitivity events: 0.13\n",
      "Sensitivity: 4.435872783627394e-06\n",
      "--------------------------------------------------------\n",
      "sum to len ratio in % 0.014435073993239898\n",
      "Cut at xgb probability 0.95\n",
      "Number of background events after cut: 36998\n",
      "PFOM max: 0.0007058388285859196\n",
      "Number of sensitivity events: 0.12\n",
      "Sensitivity: 3.268525027982094e-06\n",
      "--------------------------------------------------------\n",
      "sum to len ratio in % 0.014435073993239898\n",
      "Cut at xgb probability 0.96\n",
      "Number of background events after cut: 28356\n",
      "PFOM max: 0.0007058388285859196\n",
      "Number of sensitivity events: 0.13\n",
      "Sensitivity: 4.444827842852737e-06\n",
      "--------------------------------------------------------\n",
      "sum to len ratio in % 0.014435073993239898\n",
      "Cut at xgb probability 0.95\n",
      "Number of background events after cut: 37087\n",
      "PFOM max: 0.0007058388285859196\n",
      "Number of sensitivity events: 0.12\n",
      "Sensitivity: 3.240421526529989e-06\n",
      "--------------------------------------------------------\n",
      "sum to len ratio in % 0.014435073993239898\n",
      "Cut at xgb probability 0.96\n",
      "Number of background events after cut: 28937\n",
      "PFOM max: 0.0007058388285859196\n",
      "Number of sensitivity events: 0.12\n",
      "Sensitivity: 4.1159582344406705e-06\n",
      "--------------------------------------------------------\n",
      "sum to len ratio in % 0.014435073993239898\n",
      "Cut at xgb probability 0.95\n",
      "Number of background events after cut: 36872\n",
      "PFOM max: 0.0007058388285859196\n",
      "Number of sensitivity events: 0.12\n",
      "Sensitivity: 3.3493576195170477e-06\n",
      "--------------------------------------------------------\n",
      "\n",
      "##################################################################################\n",
      "P_max:\n",
      "[0.0006859605232203868, 0.0007119824871290985, 0.0007067533684877324, 0.000694544938789401, 0.0007239500069526823, 0.0006911580847051163, 0.0007203561060684626, 0.0006868636643684112, 0.0006807251449999866, 0.0007058388285859196]\n",
      "Mean: 0.0007008133153307199 Std: 1.4330967825844557e-05\n",
      "P_max:\n",
      "[2.6275120303333973e-06, 3.3547637694243667e-06, 3.3307527654333137e-06, 3.2824124018759342e-06, 4.435872783627394e-06, 3.268525027982094e-06, 4.444827842852737e-06, 3.240421526529989e-06, 4.1159582344406705e-06, 3.3493576195170477e-06]\n",
      "Mean: 3.545040400201694e-06 Std: 5.594325940043309e-07\n"
     ]
    }
   ],
   "source": [
    "import numpy as np\n",
    "import pandas as pd\n",
    "import pyarrow.parquet as pq\n",
    "from xgboost import XGBClassifier\n",
    "from sklearn.model_selection import train_test_split\n",
    "import matplotlib.pyplot as plt\n",
    "import functions as fc\n",
    "from sklearn.model_selection import StratifiedShuffleSplit\n",
    "\n",
    "\n",
    "def sensitivity(pfom_max,B_events):\n",
    "\n",
    "    bf = 2*0.514*4.6e-6\n",
    "    sigma=1.11e6 #fb\n",
    "    l=100/3 #fb⁻¹\n",
    "    ns=bf*sigma*l*pfom_max\n",
    "    print(f\"Number of sensitivity events: {ns:.2}\")\n",
    "    return ns/B_events\n",
    "\n",
    "\n",
    "\n",
    "def PFOM(seff,beff,bhist,n):\n",
    "    return seff/(np.sqrt(beff*sum(bhist))+n/2)\n",
    "\n",
    "\n",
    "df = pq.read_table(f\"/ceph/aavocone/Datasets/3_large.parquet\")\n",
    "df = df.to_pandas()\n",
    "\n",
    "X = df[df.columns[:-1]]    \n",
    "y = df[\"signal\"]   \n",
    "print(\"sum to len ratio in %\",sum(y)/len(y)*100)\n",
    "\n",
    "S_list    = []\n",
    "P_max     = []\n",
    "xgb_max = []\n",
    "\n",
    "\n",
    "sss = StratifiedShuffleSplit(n_splits=10, random_state=0)\n",
    "for train_index, test_index in sss.split(X, y):\n",
    "    #print(\"TRAIN:\", train_index[0], \"TEST:\", test_index[0])\n",
    "    xtest = X.iloc[test_index]\n",
    "    ytest = y.iloc[test_index]\n",
    "    print(\"sum to len ratio in %\",sum(ytest)/len(ytest)*100)\n",
    "    clf = XGBClassifier()\n",
    "    clf.load_model(f\"/ceph/aavocone/models/3_0_500.txt\")\n",
    "    yprob = clf.predict_proba(xtest)[:,1]\n",
    "    sh,bh,s,b,bin_edges = fc.efficiency(yprob,ytest)\n",
    "    pfom = fc.PFOM(s,b,bh,5)\n",
    "    max_index = np.where(pfom==max(pfom))[0][0] #np.where = tuple(array[index_value]), to get index you need to specify location in tuple and in array... \n",
    "    b_max = bh >= max_index/100\n",
    "    b_max = b_max[b_max!=0]\n",
    "\n",
    " \n",
    "    print(f\"Cut at xgb probability {max_index/100}\")\n",
    "    print(\"Number of background events after cut:\",len(b_max))\n",
    "    print(\"PFOM max:\", max_value)\n",
    "    S = sensitivity(pfom[max_index],len(b_max))\n",
    "    print(\"Sensitivity:\", S)\n",
    "    P_max.append(pfom[max_index])\n",
    "    S_list.append(S)\n",
    "    xgb_max.append(bin_edges[max_index])\n",
    "    print(\"--------------------------------------------------------\")\n",
    "\n",
    "print()\n",
    "print(\"##################################################################################\")\n",
    "print(\"P_max:\")\n",
    "print(P_max)\n",
    "print(\"Mean:\", np.mean(P_max), \"Std:\", np.std(P_max))\n",
    "print(\"P_max:\")\n",
    "print(S_list)\n",
    "print(\"Mean:\", np.mean(S_list), \"Std:\", np.std(S_list))"
   ]
  },
  {
   "cell_type": "code",
   "execution_count": 3,
   "metadata": {},
   "outputs": [
    {
     "name": "stdout",
     "output_type": "stream",
     "text": [
      "P_max:\n",
      "[0.0006859605232203868, 0.0007119824871290985, 0.0007067533684877324, 0.000694544938789401, 0.0007239500069526823, 0.0006911580847051163, 0.0007203561060684626, 0.0006868636643684112, 0.0006807251449999866, 0.0007058388285859196]\n",
      "Mean: 0.0007008133153307199 Std: 1.4330967825844557e-05\n",
      "P_max:\n",
      "[2.6275120303333973e-06, 3.3547637694243667e-06, 3.3307527654333137e-06, 3.2824124018759342e-06, 4.435872783627394e-06, 3.268525027982094e-06, 4.444827842852737e-06, 3.240421526529989e-06, 4.1159582344406705e-06, 3.3493576195170477e-06]\n",
      "Mean: 3.545040400201694e-06 Std: 5.594325940043309e-07\n",
      "xgb maximum:\n",
      "[0.9400000000000001, 0.9500000000000001, 0.9500000000000001, 0.9500000000000001, 0.96, 0.9500000000000001, 0.96, 0.9500000000000001, 0.96, 0.9500000000000001]\n",
      "Mean: 0.952 Std: 0.005999999999999961\n"
     ]
    }
   ],
   "source": [
    "print(\"P_max:\")\n",
    "print(P_max)\n",
    "print(\"Mean:\", np.mean(P_max), \"Std:\", np.std(P_max))\n",
    "print(\"P_max:\")\n",
    "print(S_list)\n",
    "print(\"Mean:\", np.mean(S_list), \"Std:\", np.std(S_list))\n",
    "print(\"xgb maximum:\")\n",
    "print(xgb_max)\n",
    "print(\"Mean:\", np.mean(xgb_max), \"Std:\", np.std(xgb_max))"
   ]
  },
  {
   "cell_type": "code",
   "execution_count": 6,
   "metadata": {},
   "outputs": [
    {
     "data": {
      "text/plain": [
       "Text(0.5, 1.0, 'PFOM')"
      ]
     },
     "execution_count": 6,
     "metadata": {},
     "output_type": "execute_result"
    },
    {
     "data": {
      "image/png": "[encoded data removed]",
      "text/plain": [
       "<Figure size 648x432 with 1 Axes>"
      ]
     },
     "metadata": {
      "needs_background": "light"
     },
     "output_type": "display_data"
    }
   ],
   "source": [
    "plt.figure(figsize=(9,6))\n",
    "plt.errorbar(np.mean(xgb_max),np.mean(P_max), xerr=np.std(xgb_max),yerr=np.std(P_max))\n",
    "plt.plot(bin_edges, pfom)\n",
    "plt.title(\"PFOM\")"
   ]
  },
  {
   "cell_type": "code",
   "execution_count": null,
   "metadata": {},
   "outputs": [],
   "source": []
  }
 ],
 "metadata": {
  "kernelspec": {
   "display_name": "Python 3.8.13 ('Bachelor': conda)",
   "language": "python",
   "name": "python3"
  },
  "language_info": {
   "codemirror_mode": {
    "name": "ipython",
    "version": 3
   },
   "file_extension": ".py",
   "mimetype": "text/x-python",
   "name": "python",
   "nbconvert_exporter": "python",
   "pygments_lexer": "ipython3",
   "version": "3.8.13"
  },
  "orig_nbformat": 4,
  "vscode": {
   "interpreter": {
    "hash": "8fa6b6c428d539fc06232ec94d1d357953a237439554a85c30960535ca4a6246"
   }
  }
 },
 "nbformat": 4,
 "nbformat_minor": 2
}
