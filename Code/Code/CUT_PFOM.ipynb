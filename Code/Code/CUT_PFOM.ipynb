{
 "cells": [
  {
   "cell_type": "code",
   "execution_count": 6,
   "metadata": {},
   "outputs": [],
   "source": [
    "import numpy as np\n",
    "import pandas as pd\n",
    "import xgboost as xgb\n",
    "import pyarrow as pa\n",
    "import pyarrow.parquet as pq\n",
    "from xgboost import XGBClassifier\n",
    "from sklearn.model_selection import train_test_split\n",
    "import functions as fc\n",
    "import matplotlib.pyplot as plt"
   ]
  },
  {
   "cell_type": "markdown",
   "metadata": {},
   "source": [
    "## comparing 0.005 GeV models"
   ]
  },
  {
   "cell_type": "code",
   "execution_count": 7,
   "metadata": {},
   "outputs": [
    {
     "name": "stdout",
     "output_type": "stream",
     "text": [
      "Number of total background events: 45875373.0\n",
      "Model: n=150\n",
      "Cut at xgb probability 0.98\n",
      "Number of background events after cut: 119383\n",
      "\n",
      "Model: 5 MeV + 3.0 GeV\n",
      "Cut at xgb probability 0.96\n",
      "Number of background events after cut: 144073\n",
      "\n",
      "Model: 5.0 GeV + 4.6 GeV\n",
      "Cut at xgb probability 0.95\n",
      "Number of background events after cut: 235678\n",
      "\n",
      "Model: all masses\n",
      "Cut at xgb probability 0.92\n",
      "Number of background events after cut: 502348\n",
      "\n"
     ]
    },
    {
     "data": {
      "text/plain": [
       "'\\n# signal efficiency\\nplt.figure(figsize=(9,6))\\nplt.figure(figsize=(9,6))\\nplt.plot(bin_edges, 100*(sig_eff[0]), label = legends[0], alpha = 0.7)\\nplt.scatter(maximum[0][0], 100*maximum[0][2], marker = \"x\")\\nplt.plot(bin_edges, 100*(sig_eff[1]), label = legends[1], alpha = 0.7)\\nplt.scatter(maximum[1][0], 100*maximum[1][2], marker = \"x\")\\nplt.plot(bin_edges, 100*(sig_eff[2]), label = legends[2], alpha = 0.7)\\nplt.scatter(maximum[2][0], 100*maximum[2][2], marker = \"x\")\\nplt.plot(bin_edges, 100*(sig_eff[3]), label = legends[3], alpha = 0.7)\\nplt.scatter(maximum[3][0], 100*maximum[3][2], marker = \"x\")\\nplt.title(\"data sample = 0.005 GeV\",fontsize=15)\\nplt.ylabel(\"signal efficiency [%]\",fontsize=15)\\nplt.xlabel(\"xgb probability\", fontsize = 20)\\nplt.legend(framealpha = 0)\\nplt.savefig(f\"/work/aavocone/week12/0/signal0.pdf\", format=\"pdf\",bbox_inches=\"tight\")\\nplt.show()\\n\\n#background rejection\\nplt.figure(figsize=(9,6))\\nplt.plot(bin_edges, 100*(1-bg_eff[0]), label = legends[0], alpha = 0.7)\\nplt.scatter(maximum[0][0], 100*maximum[0][3], marker = \"x\")\\nplt.plot(bin_edges, 100*(1-bg_eff[1]), label = legends[1], alpha = 0.7)\\nplt.scatter(maximum[1][0], 100*maximum[1][3], marker = \"x\")\\nplt.plot(bin_edges, 100*(1-bg_eff[2]), label = legends[2], alpha = 0.7)\\nplt.scatter(maximum[2][0], 100*maximum[2][3], marker = \"x\")\\nplt.plot(bin_edges, 100*(1-bg_eff[3]), label = legends[3], alpha = 0.7)\\nplt.scatter(maximum[3][0], 100*maximum[3][3], marker = \"x\")\\nplt.title(\"data sample = 0.005 GeV\",fontsize=15)\\nplt.ylabel(\"background rejection [%]\",fontsize=15)\\nplt.xlabel(\"xgb probability\", fontsize = 20)\\nplt.legend(framealpha = 0)\\nplt.savefig(f\"/work/aavocone/week12/0/background0.pdf\", format=\"pdf\",bbox_inches=\"tight\")\\nplt.show()\\n\\n\\n\\n#PFOM----------------\\nplt.figure(figsize=(9,6))\\nplt.plot(bin_edges, pfom_list[0], label = legends[0], alpha = 0.7)\\nplt.scatter(maximum[0][0],maximum[0][1], marker = \"x\")\\n\\nplt.plot(bin_edges, pfom_list[1], label = legends[1], alpha = 0.7)\\nplt.scatter(maximum[1][0],maximum[1][1], marker = \"x\")\\n\\nplt.plot(bin_edges, pfom_list[2], label = legends[2], alpha = 0.7)\\nplt.scatter(maximum[2][0],maximum[2][1], marker = \"x\")\\n\\nplt.plot(bin_edges, pfom_list[3], label = legends[3], alpha = 0.7)\\nplt.scatter(maximum[3][0],maximum[3][1], marker = \"x\")\\nplt.title(\"Punzi figure of merit comparison\",fontsize=15)\\nplt.ylabel(\"Punzi FOM\",fontsize=15)\\nplt.xlabel(\"xgb probability\", fontsize = 20)\\nplt.legend(framealpha = 0)\\nplt.savefig(f\"/work/aavocone/week12/0/PFOM0.pdf\", format=\"pdf\",bbox_inches=\"tight\")\\nplt.show()\\n'"
      ]
     },
     "execution_count": 7,
     "metadata": {},
     "output_type": "execute_result"
    }
   ],
   "source": [
    "get_models = [\"over0_150.txt\",\"03_model500.txt\",\"04_model500.txt\",\"all_model500.txt\"]\n",
    "labels = [\"5.0 MeV with n = 150\", \"(0.005 + 3.0) GeV\",\"(0.005 + 4.6) GeV\", \"(0.005 + 3.0 + 4.6) GeV\"  ]\n",
    "legends = [\"n=150\", \"5 MeV + 3.0 GeV\", \"5.0 GeV + 4.6 GeV\",\"all masses\"]\n",
    "legend_location = [2,2,1,1,1,1,1]\n",
    "\n",
    "df = pq.read_table(\"/ceph/aavocone/Datasets/0_large.parquet\")\n",
    "df = df.to_pandas()\n",
    "\n",
    "\n",
    "X = df[df.columns[:-1]]    #exclude \"signal efficiency [%]\" \"classification\" \"B_sig_isSignalAcceptMissingNeutrino\"\n",
    "y = df[\"signal\"]   \n",
    "xtrain,xtest,ytrain,ytest = train_test_split(X, y, test_size = 0.33, stratify = y)\n",
    "xtrain,xval,ytrain,yval = train_test_split(xtrain, ytrain, test_size = 0.5)\n",
    "clf = XGBClassifier()\n",
    "\n",
    "bckgrnd = 1-ytest\n",
    "print(\"Number of total background events:\",sum(bckgrnd))\n",
    "\n",
    "sig_eff = []\n",
    "bg_eff = []\n",
    "pfom_list = []\n",
    "maximum = []\n",
    "\n",
    "for index, models in enumerate(get_models):\n",
    "    clf.load_model(f\"/ceph/aavocone/PFOM_models/{models}\")\n",
    "    yprob = clf.predict_proba(xtest)[:,1]\n",
    "    sh,bh,s,b,bin_edges = fc.efficiency(yprob,ytest, eff_type=0)\n",
    "    pfom = fc.PFOM(s,b,bh,5)\n",
    "    pfom_list.append(pfom)\n",
    "    sig_eff.append(s)\n",
    "    bg_eff.append(b)\n",
    "    max_index = np.where(pfom==max(pfom))[0][0] #np.where = tuple(array[index_value]), to get index you need to specify location in tuple and in array... \n",
    "    max_value = pfom[max_index]\n",
    "    maximum.append([max_index/100,max_value,s[max_index],1-b[max_index]])\n",
    "\n",
    "    print(\"Model:\",legends[index])\n",
    "    print(f\"Cut at xgb probability {max_index/100}\")\n",
    "    b_max = bh >= max_index/100\n",
    "    b_max = b_max[b_max!=0]\n",
    "    print(\"Number of background events after cut:\",len(b_max))\n",
    "    print()\n",
    "\n",
    "\"\"\"\n",
    "# signal efficiency\n",
    "plt.figure(figsize=(9,6))\n",
    "plt.plot(bin_edges, 100*(sig_eff[0]), label = legends[0], alpha = 0.7)\n",
    "plt.scatter(maximum[0][0], 100*maximum[0][2], marker = \"x\")\n",
    "plt.plot(bin_edges, 100*(sig_eff[1]), label = legends[1], alpha = 0.7)\n",
    "plt.scatter(maximum[1][0], 100*maximum[1][2], marker = \"x\")\n",
    "plt.plot(bin_edges, 100*(sig_eff[2]), label = legends[2], alpha = 0.7)\n",
    "plt.scatter(maximum[2][0], 100*maximum[2][2], marker = \"x\")\n",
    "plt.plot(bin_edges, 100*(sig_eff[3]), label = legends[3], alpha = 0.7)\n",
    "plt.scatter(maximum[3][0], 100*maximum[3][2], marker = \"x\")\n",
    "plt.title(\"data sample = 0.005 GeV\",fontsize=15)\n",
    "plt.ylabel(\"signal efficiency [%]\",fontsize=15)\n",
    "plt.xlabel(\"xgb probability\", fontsize = 20)\n",
    "plt.legend(framealpha = 0)\n",
    "plt.savefig(f\"/work/aavocone/week12/0/signal0.pdf\", format=\"pdf\",bbox_inches=\"tight\")\n",
    "plt.show()\n",
    "\n",
    "#background rejection\n",
    "plt.figure(figsize=(9,6))\n",
    "plt.plot(bin_edges, 100*(1-bg_eff[0]), label = legends[0], alpha = 0.7)\n",
    "plt.scatter(maximum[0][0], 100*maximum[0][3], marker = \"x\")\n",
    "plt.plot(bin_edges, 100*(1-bg_eff[1]), label = legends[1], alpha = 0.7)\n",
    "plt.scatter(maximum[1][0], 100*maximum[1][3], marker = \"x\")\n",
    "plt.plot(bin_edges, 100*(1-bg_eff[2]), label = legends[2], alpha = 0.7)\n",
    "plt.scatter(maximum[2][0], 100*maximum[2][3], marker = \"x\")\n",
    "plt.plot(bin_edges, 100*(1-bg_eff[3]), label = legends[3], alpha = 0.7)\n",
    "plt.scatter(maximum[3][0], 100*maximum[3][3], marker = \"x\")\n",
    "plt.title(\"data sample = 0.005 GeV\",fontsize=15)\n",
    "plt.ylabel(\"background rejection [%]\",fontsize=15)\n",
    "plt.xlabel(\"xgb probability\", fontsize = 20)\n",
    "plt.legend(framealpha = 0)\n",
    "plt.savefig(f\"/work/aavocone/week12/0/background0.pdf\", format=\"pdf\",bbox_inches=\"tight\")\n",
    "plt.show()\n",
    "\n",
    "\n",
    "\n",
    "#PFOM----------------\n",
    "plt.figure(figsize=(9,6))\n",
    "plt.plot(bin_edges, pfom_list[0], label = legends[0], alpha = 0.7)\n",
    "plt.scatter(maximum[0][0],maximum[0][1], marker = \"x\")\n",
    "\n",
    "plt.plot(bin_edges, pfom_list[1], label = legends[1], alpha = 0.7)\n",
    "plt.scatter(maximum[1][0],maximum[1][1], marker = \"x\")\n",
    "\n",
    "plt.plot(bin_edges, pfom_list[2], label = legends[2], alpha = 0.7)\n",
    "plt.scatter(maximum[2][0],maximum[2][1], marker = \"x\")\n",
    "\n",
    "plt.plot(bin_edges, pfom_list[3], label = legends[3], alpha = 0.7)\n",
    "plt.scatter(maximum[3][0],maximum[3][1], marker = \"x\")\n",
    "plt.title(\"Punzi figure of merit comparison\",fontsize=15)\n",
    "plt.ylabel(\"Punzi FOM\",fontsize=15)\n",
    "plt.xlabel(\"xgb probability\", fontsize = 20)\n",
    "plt.legend(framealpha = 0)\n",
    "plt.savefig(f\"/work/aavocone/week12/0/PFOM0.pdf\", format=\"pdf\",bbox_inches=\"tight\")\n",
    "plt.show()\n",
    "\"\"\""
   ]
  },
  {
   "cell_type": "code",
   "execution_count": 8,
   "metadata": {},
   "outputs": [
    {
     "name": "stdout",
     "output_type": "stream",
     "text": [
      "          Model          :      [xgb, max punzi] \n",
      "-------------------------------------------------------------\n",
      "5.0 MeV with n = 150     : [0.98, 0.00032783932957298497, 0.01849, 0.997397666935591]\n",
      "(0.005 + 3.0) GeV        : [0.96, 0.0001678055776323262, 0.01288, 0.9968594696766825]\n",
      "(0.005 + 4.6) GeV        : [0.95, 0.00013302195897099483, 0.01216, 0.9948626466753742]\n",
      "(0.005 + 3.0 + 4.6) GeV  : [0.92, 7.202683713088836e-05, 0.01352, 0.9890497239117816]\n"
     ]
    }
   ],
   "source": [
    "print(\"          Model          :      [xgb, max punzi] \")\n",
    "print(\"-------------------------------------------------------------\")\n",
    "for i in range(len(labels)):\n",
    "    print(\"{0:25s}: {1:}\".format(labels[i],maximum[i]))"
   ]
  },
  {
   "cell_type": "markdown",
   "metadata": {},
   "source": [
    "## comparing 3.0 GeV models"
   ]
  },
  {
   "cell_type": "code",
   "execution_count": 10,
   "metadata": {},
   "outputs": [
    {
     "name": "stdout",
     "output_type": "stream",
     "text": [
      "Number of total background events: 45875372.0\n",
      "Model: n=500\n",
      "Cut at xgb probability 0.95\n",
      "Number of background events after cut: 122616\n",
      "\n",
      "Model: 5 MeV + 3.0 GeV\n",
      "Cut at xgb probability 0.92\n",
      "Number of background events after cut: 309416\n",
      "\n",
      "Model: 3.0 GeV + 4.6 GeV\n",
      "Cut at xgb probability 0.82\n",
      "Number of background events after cut: 995027\n",
      "\n",
      "Model: all masses\n",
      "Cut at xgb probability 0.81\n",
      "Number of background events after cut: 1186003\n",
      "\n"
     ]
    },
    {
     "data": {
      "text/plain": [
       "'\\n# signal efficiency\\nplt.figure(figsize=(9,6))\\nplt.figure(figsize=(9,6))\\nplt.plot(bin_edges, 100*(sig_eff[0]), label = legends[0], alpha = 0.7)\\nplt.scatter(maximum[0][0], 100*maximum[0][2], marker = \"x\")\\nplt.plot(bin_edges, 100*(sig_eff[1]), label = legends[1], alpha = 0.7)\\nplt.scatter(maximum[1][0], 100*maximum[1][2], marker = \"x\")\\nplt.plot(bin_edges, 100*(sig_eff[2]), label = legends[2], alpha = 0.7)\\nplt.scatter(maximum[2][0], 100*maximum[2][2], marker = \"x\")\\nplt.plot(bin_edges, 100*(sig_eff[3]), label = legends[3], alpha = 0.7)\\nplt.scatter(maximum[3][0], 100*maximum[3][2], marker = \"x\")\\nplt.title(\"data sample = 3.0 GeV\",fontsize=15)\\nplt.ylabel(\"signal efficiency [%]\",fontsize=15)\\nplt.xlabel(\"xgb probability\", fontsize = 20)\\nplt.legend(framealpha = 0)\\nplt.savefig(f\"/work/aavocone/week12/3/signal3.pdf\", format=\"pdf\",bbox_inches=\"tight\")\\nplt.show()\\n\\n#background rejection\\nplt.figure(figsize=(9,6))\\nplt.plot(bin_edges, 100*(1-bg_eff[0]), label = legends[0], alpha = 0.7)\\nplt.scatter(maximum[0][0], 100*maximum[0][3], marker = \"x\")\\nplt.plot(bin_edges, 100*(1-bg_eff[1]), label = legends[1], alpha = 0.7)\\nplt.scatter(maximum[1][0], 100*maximum[1][3], marker = \"x\")\\nplt.plot(bin_edges, 100*(1-bg_eff[2]), label = legends[2], alpha = 0.7)\\nplt.scatter(maximum[2][0], 100*maximum[2][3], marker = \"x\")\\nplt.plot(bin_edges, 100*(1-bg_eff[3]), label = legends[3], alpha = 0.7)\\nplt.scatter(maximum[3][0], 100*maximum[3][3], marker = \"x\")\\nplt.title(\"data sample = 3.0 GeV\",fontsize=15)\\nplt.ylabel(\"background rejection [%]\",fontsize=15)\\nplt.xlabel(\"xgb probability\", fontsize = 20)\\nplt.legend(framealpha = 0)\\nplt.savefig(f\"/work/aavocone/week12/3/background3.pdf\", format=\"pdf\",bbox_inches=\"tight\")\\nplt.show()\\n\\n\\n\\n\\n\\n\\nplt.figure(figsize=(9,6))\\nplt.plot(bin_edges, pfom_list[0], label = legends[0], alpha = 0.7)\\nplt.scatter(maximum[0][0],maximum[0][1], marker = \"x\")\\n\\nplt.plot(bin_edges, pfom_list[1], label = legends[1], alpha = 0.7)\\nplt.scatter(maximum[1][0],maximum[1][1], marker = \"x\")\\n\\nplt.plot(bin_edges, pfom_list[2], label = legends[2], alpha = 0.7)\\nplt.scatter(maximum[2][0],maximum[2][1], marker = \"x\")\\n\\nplt.plot(bin_edges, pfom_list[3], label = legends[3], alpha = 0.7)\\nplt.scatter(maximum[3][0],maximum[3][1], marker = \"x\")\\n\\n\\nplt.title(\"Punzi figure of merit comparison\",fontsize=15)\\nplt.ylabel(\"Punzi FOM\",fontsize=15)\\nplt.xlabel(\"xgb probability\", fontsize = 20)\\nplt.legend(fontsize = 15 , framealpha = 0)\\nplt.savefig(f\"/work/aavocone/week12/3/PFOM3.pdf\", format=\"pdf\",bbox_inches=\"tight\")\\nplt.show()\\n'"
      ]
     },
     "execution_count": 10,
     "metadata": {},
     "output_type": "execute_result"
    }
   ],
   "source": [
    "get_models = [\"3_0_500.txt\",\"03_model500.txt\",\"34_model500.txt\",\"all_model500.txt\"]\n",
    "labels = [\"3.0 GeV with n = 500\", \"(0.005 + 3.0) GeV\",\"(3.0 + 4.6) GeV\", \"(0.005 + 3.0 + 4.6) GeV\"  ]\n",
    "legends = [\"n=500\",\"5 MeV + 3.0 GeV\", \"3.0 GeV + 4.6 GeV\",\"all masses\"]\n",
    "legend_location = [2,1,2,2,2,2]\n",
    "df = pq.read_table(\"/ceph/aavocone/Datasets/3_large.parquet\")\n",
    "df = df.to_pandas()\n",
    "\n",
    "X = df[df.columns[:-1]]    #exclude \"signal efficiency [%]\" \"classification\" \"B_sig_isSignalAcceptMissingNeutrino\"\n",
    "y = df[\"signal\"]   \n",
    "xtrain,xtest,ytrain,ytest = train_test_split(X, y, test_size = 0.33, stratify = y)\n",
    "xtrain,xval,ytrain,yval = train_test_split(xtrain, ytrain, test_size = 0.5)\n",
    "clf = XGBClassifier()\n",
    "\n",
    "bckgrnd = 1-ytest\n",
    "print(\"Number of total background events:\",sum(bckgrnd))\n",
    "\n",
    "sig_eff = []\n",
    "bg_eff = []\n",
    "pfom_list = []\n",
    "maximum = []\n",
    "\n",
    "for index, models in enumerate(get_models):\n",
    "    clf.load_model(f\"/ceph/aavocone/PFOM_models/{models}\")\n",
    "    yprob = clf.predict_proba(xtest)[:,1]\n",
    "    sh,bh,s,b,bin_edges = fc.efficiency(yprob,ytest, eff_type=0)\n",
    "    pfom = fc.PFOM(s,b,bh,5)\n",
    "    pfom_list.append(pfom)\n",
    "    sig_eff.append(s)\n",
    "    bg_eff.append(b)\n",
    "    max_index = np.where(pfom==max(pfom))[0][0] #np.where = tuple(array[index_value]), to get index you need to specify location in tuple and in array... \n",
    "    max_value = pfom[max_index]\n",
    "    maximum.append([max_index/100,max_value,s[max_index],1-b[max_index]])\n",
    "    \n",
    "    print(\"Model:\",legends[index])\n",
    "    print(f\"Cut at xgb probability {max_index/100}\")\n",
    "    b_max = bh >= max_index/100\n",
    "    b_max = b_max[b_max!=0]\n",
    "    print(\"Number of background events after cut:\",len(b_max))\n",
    "    print()\n",
    "\n",
    "\n",
    "\"\"\" \n",
    "# signal efficiency\n",
    "plt.figure(figsize=(9,6))\n",
    "plt.figure(figsize=(9,6))\n",
    "plt.plot(bin_edges, 100*(sig_eff[0]), label = legends[0], alpha = 0.7)\n",
    "plt.scatter(maximum[0][0], 100*maximum[0][2], marker = \"x\")\n",
    "plt.plot(bin_edges, 100*(sig_eff[1]), label = legends[1], alpha = 0.7)\n",
    "plt.scatter(maximum[1][0], 100*maximum[1][2], marker = \"x\")\n",
    "plt.plot(bin_edges, 100*(sig_eff[2]), label = legends[2], alpha = 0.7)\n",
    "plt.scatter(maximum[2][0], 100*maximum[2][2], marker = \"x\")\n",
    "plt.plot(bin_edges, 100*(sig_eff[3]), label = legends[3], alpha = 0.7)\n",
    "plt.scatter(maximum[3][0], 100*maximum[3][2], marker = \"x\")\n",
    "plt.title(\"data sample = 3.0 GeV\",fontsize=15)\n",
    "plt.ylabel(\"signal efficiency [%]\",fontsize=15)\n",
    "plt.xlabel(\"xgb probability\", fontsize = 20)\n",
    "plt.legend(framealpha = 0)\n",
    "plt.savefig(f\"/work/aavocone/week12/3/signal3.pdf\", format=\"pdf\",bbox_inches=\"tight\")\n",
    "plt.show()\n",
    "\n",
    "#background rejection\n",
    "plt.figure(figsize=(9,6))\n",
    "plt.plot(bin_edges, 100*(1-bg_eff[0]), label = legends[0], alpha = 0.7)\n",
    "plt.scatter(maximum[0][0], 100*maximum[0][3], marker = \"x\")\n",
    "plt.plot(bin_edges, 100*(1-bg_eff[1]), label = legends[1], alpha = 0.7)\n",
    "plt.scatter(maximum[1][0], 100*maximum[1][3], marker = \"x\")\n",
    "plt.plot(bin_edges, 100*(1-bg_eff[2]), label = legends[2], alpha = 0.7)\n",
    "plt.scatter(maximum[2][0], 100*maximum[2][3], marker = \"x\")\n",
    "plt.plot(bin_edges, 100*(1-bg_eff[3]), label = legends[3], alpha = 0.7)\n",
    "plt.scatter(maximum[3][0], 100*maximum[3][3], marker = \"x\")\n",
    "plt.title(\"data sample = 3.0 GeV\",fontsize=15)\n",
    "plt.ylabel(\"background rejection [%]\",fontsize=15)\n",
    "plt.xlabel(\"xgb probability\", fontsize = 20)\n",
    "plt.legend(framealpha = 0)\n",
    "plt.savefig(f\"/work/aavocone/week12/3/background3.pdf\", format=\"pdf\",bbox_inches=\"tight\")\n",
    "plt.show()\n",
    "\n",
    "\n",
    "\n",
    "\n",
    "\n",
    "\n",
    "plt.figure(figsize=(9,6))\n",
    "plt.plot(bin_edges, pfom_list[0], label = legends[0], alpha = 0.7)\n",
    "plt.scatter(maximum[0][0],maximum[0][1], marker = \"x\")\n",
    "\n",
    "plt.plot(bin_edges, pfom_list[1], label = legends[1], alpha = 0.7)\n",
    "plt.scatter(maximum[1][0],maximum[1][1], marker = \"x\")\n",
    "\n",
    "plt.plot(bin_edges, pfom_list[2], label = legends[2], alpha = 0.7)\n",
    "plt.scatter(maximum[2][0],maximum[2][1], marker = \"x\")\n",
    "\n",
    "plt.plot(bin_edges, pfom_list[3], label = legends[3], alpha = 0.7)\n",
    "plt.scatter(maximum[3][0],maximum[3][1], marker = \"x\")\n",
    "\n",
    "\n",
    "plt.title(\"Punzi figure of merit comparison\",fontsize=15)\n",
    "plt.ylabel(\"Punzi FOM\",fontsize=15)\n",
    "plt.xlabel(\"xgb probability\", fontsize = 20)\n",
    "plt.legend(fontsize = 15 , framealpha = 0)\n",
    "plt.savefig(f\"/work/aavocone/week12/3/PFOM3.pdf\", format=\"pdf\",bbox_inches=\"tight\")\n",
    "plt.show()\n",
    "\"\"\"\n",
    "\n"
   ]
  },
  {
   "cell_type": "markdown",
   "metadata": {},
   "source": [
    "##"
   ]
  },
  {
   "cell_type": "code",
   "execution_count": 11,
   "metadata": {},
   "outputs": [
    {
     "name": "stdout",
     "output_type": "stream",
     "text": [
      "          Model          :      [xgb, max punzi] \n",
      "-------------------------------------------------------------\n",
      "3.0 GeV with n = 500     : [0.95, 0.0004486135061611418, 0.02732, 0.9973271933358927]\n",
      "(0.005 + 3.0) GeV        : [0.92, 0.00028789539953780104, 0.03204, 0.9932552917500048]\n",
      "(3.0 + 4.6) GeV          : [0.82, 0.00015959240644084337, 0.03886, 0.9783102140294361]\n",
      "(0.005 + 3.0 + 4.6) GeV  : [0.81, 0.00013620976221420214, 0.0391, 0.9741472832089514]\n"
     ]
    }
   ],
   "source": [
    "print(\"          Model          :      [xgb, max punzi] \")\n",
    "print(\"-------------------------------------------------------------\")\n",
    "for i in range(len(labels)):\n",
    "    print(\"{0:25s}: {1:}\".format(labels[i],maximum[i]))"
   ]
  },
  {
   "cell_type": "markdown",
   "metadata": {},
   "source": [
    "## comparing 4.6 GeV models"
   ]
  },
  {
   "cell_type": "code",
   "execution_count": 12,
   "metadata": {},
   "outputs": [
    {
     "name": "stdout",
     "output_type": "stream",
     "text": [
      "Number of total background events: 45875372.0\n",
      "Model: n=500\n",
      "Cut at xgb probability 0.97\n",
      "Number of background events after cut: 108009\n",
      "\n",
      "Model: 5 MeV + 4.6 GeV\n",
      "Cut at xgb probability 0.94\n",
      "Number of background events after cut: 278593\n",
      "\n",
      "Model: 3.0 GeV + 4.6 GeV\n",
      "Cut at xgb probability 0.95\n",
      "Number of background events after cut: 277654\n",
      "\n",
      "Model: all masses\n",
      "Cut at xgb probability 0.95\n",
      "Number of background events after cut: 282140\n",
      "\n"
     ]
    },
    {
     "data": {
      "text/plain": [
       "'\\n# signal efficiency\\nplt.figure(figsize=(9,6))\\nplt.plot(bin_edges, 100*(sig_eff[0]), label = legends[0], alpha = 0.7)\\nplt.scatter(maximum[0][0], 100*maximum[0][2], marker = \"x\")\\nplt.plot(bin_edges, 100*(sig_eff[1]), label = legends[1], alpha = 0.7)\\nplt.scatter(maximum[1][0], 100*maximum[1][2], marker = \"x\")\\nplt.plot(bin_edges, 100*(sig_eff[2]), label = legends[2], alpha = 0.7)\\nplt.scatter(maximum[2][0], 100*maximum[2][2], marker = \"x\")\\nplt.plot(bin_edges, 100*(sig_eff[3]), label = legends[3], alpha = 0.7)\\nplt.scatter(maximum[3][0], 100*maximum[3][2], marker = \"x\")\\nplt.title(\"data sample = 4.6 GeV\",fontsize=15)\\nplt.ylabel(\"signal efficiency [%]\",fontsize=15)\\nplt.xlabel(\"xgb probability\", fontsize = 20)\\nplt.legend(framealpha = 0)\\nplt.savefig(f\"/work/aavocone/week12/4/signal4.pdf\", format=\"pdf\",bbox_inches=\"tight\")\\nplt.show()\\n\\n#background rejection\\nplt.figure(figsize=(9,6))\\nplt.plot(bin_edges, 100*(1-bg_eff[0]), label = legends[0], alpha = 0.7)\\nplt.scatter(maximum[0][0], 100*maximum[0][3], marker = \"x\")\\nplt.plot(bin_edges, 100*(1-bg_eff[1]), label = legends[1], alpha = 0.7)\\nplt.scatter(maximum[1][0], 100*maximum[1][3], marker = \"x\")\\nplt.plot(bin_edges, 100*(1-bg_eff[2]), label = legends[2], alpha = 0.7)\\nplt.scatter(maximum[2][0], 100*maximum[2][3], marker = \"x\")\\nplt.plot(bin_edges, 100*(1-bg_eff[3]), label = legends[3], alpha = 0.7)\\nplt.scatter(maximum[3][0], 100*maximum[3][3], marker = \"x\")\\nplt.title(\"data sample = 4.6 GeV\",fontsize=15)\\nplt.ylabel(\"background rejection [%]\",fontsize=15)\\nplt.xlabel(\"xgb probability\", fontsize = 20)\\nplt.legend(framealpha = 0)\\nplt.savefig(f\"/work/aavocone/week12/4/background4.pdf\", format=\"pdf\",bbox_inches=\"tight\")\\nplt.show()\\n\\n\\n\\n\\nplt.figure(figsize=(9,6))\\nplt.plot(bin_edges, pfom_list[0], label = legends[0], alpha = 0.7)\\nplt.scatter(maximum[0][0],maximum[0][1], marker = \"x\")\\n\\nplt.plot(bin_edges, pfom_list[1], label = legends[1], alpha = 0.7)\\nplt.scatter(maximum[1][0],maximum[1][1], marker = \"x\")\\n\\nplt.plot(bin_edges, pfom_list[2], label = legends[2], alpha = 0.7)\\nplt.scatter(maximum[2][0],maximum[2][1], marker = \"x\")\\n\\nplt.plot(bin_edges, pfom_list[3], label = legends[3], alpha = 0.7)\\nplt.scatter(maximum[3][0],maximum[3][1], marker = \"x\")\\n\\nplt.title(\"Punzi figure of merit comparison\",fontsize=15)\\nplt.ylabel(\"Punzi FOM\",fontsize=15)\\nplt.xlabel(\"xgb probability\", fontsize = 20)\\nplt.legend(framealpha = 0)\\nplt.savefig(f\"/work/aavocone/week12/4/PFOM4.pdf\", format=\"pdf\",bbox_inches=\"tight\")\\nplt.show()\\n'"
      ]
     },
     "execution_count": 12,
     "metadata": {},
     "output_type": "execute_result"
    }
   ],
   "source": [
    "get_models = [\"new_4_6_model500.txt\",\"04_model500.txt\",\"34_model500.txt\",\"all_model500.txt\"]\n",
    "labels = [\"4.6 GeV with n = 500\", \"(0.005 + 4.6) GeV\",\"(3.0 + 4.6) GeV\", \"(0.005 + 3.0 + 4.6) GeV\"]\n",
    "legends = [\"n=500\",\"5 MeV + 4.6 GeV\", \"3.0 GeV + 4.6 GeV\",\"all masses\"]\n",
    "df = pq.read_table(\"/ceph/aavocone/Datasets/4_large.parquet\")\n",
    "df = df.to_pandas()\n",
    "\n",
    "X = df[df.columns[:-1]]    #exclude \"signal efficiency [%]\" \"classification\" \"B_sig_isSignalAcceptMissingNeutrino\"\n",
    "y = df[\"signal\"]   \n",
    "xtrain,xtest,ytrain,ytest = train_test_split(X, y, test_size = 0.33, stratify = y)\n",
    "xtrain,xval,ytrain,yval = train_test_split(xtrain, ytrain, test_size = 0.5)\n",
    "clf = XGBClassifier()\n",
    "bckgrnd = 1-ytest\n",
    "print(\"Number of total background events:\",sum(bckgrnd))\n",
    "\n",
    "sig_eff = []\n",
    "bg_eff = []\n",
    "pfom_list = []\n",
    "maximum = []\n",
    "\n",
    "for index, models in enumerate(get_models):\n",
    "    clf.load_model(f\"/ceph/aavocone/PFOM_models/{models}\")\n",
    "    yprob = clf.predict_proba(xtest)[:,1]\n",
    "    sh,bh,s,b,bin_edges = fc.efficiency(yprob,ytest, eff_type=0)\n",
    "    pfom = fc.PFOM(s,b,bh,5)\n",
    "    pfom_list.append(pfom)\n",
    "    sig_eff.append(s)\n",
    "    bg_eff.append(b)\n",
    "    max_index = np.where(pfom==max(pfom))[0][0] #np.where = tuple(array[index_value]), to get index you need to specify location in tuple and in array... \n",
    "    max_value = pfom[max_index]\n",
    "    maximum.append([max_index/100,max_value,s[max_index],1-b[max_index]])\n",
    "\n",
    "    print(\"Model:\",legends[index])\n",
    "    print(f\"Cut at xgb probability {max_index/100}\")\n",
    "    b_max = bh >= max_index/100\n",
    "    b_max = b_max[b_max!=0]\n",
    "    print(\"Number of background events after cut:\",len(b_max))\n",
    "    print()\n",
    "\n",
    "\n",
    "\n",
    "\"\"\"\n",
    "# signal efficiency\n",
    "plt.figure(figsize=(9,6))\n",
    "plt.plot(bin_edges, 100*(sig_eff[0]), label = legends[0], alpha = 0.7)\n",
    "plt.scatter(maximum[0][0], 100*maximum[0][2], marker = \"x\")\n",
    "plt.plot(bin_edges, 100*(sig_eff[1]), label = legends[1], alpha = 0.7)\n",
    "plt.scatter(maximum[1][0], 100*maximum[1][2], marker = \"x\")\n",
    "plt.plot(bin_edges, 100*(sig_eff[2]), label = legends[2], alpha = 0.7)\n",
    "plt.scatter(maximum[2][0], 100*maximum[2][2], marker = \"x\")\n",
    "plt.plot(bin_edges, 100*(sig_eff[3]), label = legends[3], alpha = 0.7)\n",
    "plt.scatter(maximum[3][0], 100*maximum[3][2], marker = \"x\")\n",
    "plt.title(\"data sample = 4.6 GeV\",fontsize=15)\n",
    "plt.ylabel(\"signal efficiency [%]\",fontsize=15)\n",
    "plt.xlabel(\"xgb probability\", fontsize = 20)\n",
    "plt.legend(framealpha = 0)\n",
    "plt.savefig(f\"/work/aavocone/week12/4/signal4.pdf\", format=\"pdf\",bbox_inches=\"tight\")\n",
    "plt.show()\n",
    "\n",
    "#background rejection\n",
    "plt.figure(figsize=(9,6))\n",
    "plt.plot(bin_edges, 100*(1-bg_eff[0]), label = legends[0], alpha = 0.7)\n",
    "plt.scatter(maximum[0][0], 100*maximum[0][3], marker = \"x\")\n",
    "plt.plot(bin_edges, 100*(1-bg_eff[1]), label = legends[1], alpha = 0.7)\n",
    "plt.scatter(maximum[1][0], 100*maximum[1][3], marker = \"x\")\n",
    "plt.plot(bin_edges, 100*(1-bg_eff[2]), label = legends[2], alpha = 0.7)\n",
    "plt.scatter(maximum[2][0], 100*maximum[2][3], marker = \"x\")\n",
    "plt.plot(bin_edges, 100*(1-bg_eff[3]), label = legends[3], alpha = 0.7)\n",
    "plt.scatter(maximum[3][0], 100*maximum[3][3], marker = \"x\")\n",
    "plt.title(\"data sample = 4.6 GeV\",fontsize=15)\n",
    "plt.ylabel(\"background rejection [%]\",fontsize=15)\n",
    "plt.xlabel(\"xgb probability\", fontsize = 20)\n",
    "plt.legend(framealpha = 0)\n",
    "plt.savefig(f\"/work/aavocone/week12/4/background4.pdf\", format=\"pdf\",bbox_inches=\"tight\")\n",
    "plt.show()\n",
    "\n",
    "\n",
    "\n",
    "\n",
    "plt.figure(figsize=(9,6))\n",
    "plt.plot(bin_edges, pfom_list[0], label = legends[0], alpha = 0.7)\n",
    "plt.scatter(maximum[0][0],maximum[0][1], marker = \"x\")\n",
    "\n",
    "plt.plot(bin_edges, pfom_list[1], label = legends[1], alpha = 0.7)\n",
    "plt.scatter(maximum[1][0],maximum[1][1], marker = \"x\")\n",
    "\n",
    "plt.plot(bin_edges, pfom_list[2], label = legends[2], alpha = 0.7)\n",
    "plt.scatter(maximum[2][0],maximum[2][1], marker = \"x\")\n",
    "\n",
    "plt.plot(bin_edges, pfom_list[3], label = legends[3], alpha = 0.7)\n",
    "plt.scatter(maximum[3][0],maximum[3][1], marker = \"x\")\n",
    "\n",
    "plt.title(\"Punzi figure of merit comparison\",fontsize=15)\n",
    "plt.ylabel(\"Punzi FOM\",fontsize=15)\n",
    "plt.xlabel(\"xgb probability\", fontsize = 20)\n",
    "plt.legend(framealpha = 0)\n",
    "plt.savefig(f\"/work/aavocone/week12/4/PFOM4.pdf\", format=\"pdf\",bbox_inches=\"tight\")\n",
    "plt.show()\n",
    "\"\"\""
   ]
  },
  {
   "cell_type": "code",
   "execution_count": 13,
   "metadata": {},
   "outputs": [
    {
     "name": "stdout",
     "output_type": "stream",
     "text": [
      "          Model          :      [xgb, max punzi] \n",
      "-------------------------------------------------------------\n",
      "4.6 GeV with n = 500     : [0.97, 0.000755589897120922, 0.03647, 0.9976467765754575]\n",
      "(0.005 + 4.6) GeV        : [0.94, 0.00046449423211832735, 0.04608, 0.9939221637265415]\n",
      "(3.0 + 4.6) GeV          : [0.95, 0.00030882769193584886, 0.04005, 0.9939588500775536]\n",
      "(0.005 + 3.0 + 4.6) GeV  : [0.94, 0.00025628181744357504, 0.04066, 0.9922133601445238]\n"
     ]
    }
   ],
   "source": [
    "print(\"          Model          :      [xgb, max punzi] \")\n",
    "print(\"-------------------------------------------------------------\")\n",
    "for i in range(len(labels)):\n",
    "    print(\"{0:25s}: {1:}\".format(labels[i],maximum[i]))"
   ]
  },
  {
   "cell_type": "code",
   "execution_count": null,
   "metadata": {},
   "outputs": [],
   "source": []
  }
 ],
 "metadata": {
  "kernelspec": {
   "display_name": "Python 3.8.13 ('Bachelor': conda)",
   "language": "python",
   "name": "python3"
  },
  "language_info": {
   "codemirror_mode": {
    "name": "ipython",
    "version": 3
   },
   "file_extension": ".py",
   "mimetype": "text/x-python",
   "name": "python",
   "nbconvert_exporter": "python",
   "pygments_lexer": "ipython3",
   "version": "3.8.13"
  },
  "orig_nbformat": 4,
  "vscode": {
   "interpreter": {
    "hash": "8fa6b6c428d539fc06232ec94d1d357953a237439554a85c30960535ca4a6246"
   }
  }
 },
 "nbformat": 4,
 "nbformat_minor": 2
}
