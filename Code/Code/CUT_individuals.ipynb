{
 "cells": [
  {
   "cell_type": "code",
   "execution_count": 3,
   "metadata": {},
   "outputs": [
    {
     "data": {
      "text/plain": [
       "Index(['B_sig_K_dr', 'B_sig_K_dz', 'B_sig_CleoConeCS_3_ROE',\n",
       "       'thrustAxisCosTheta', 'aplanarity', 'sphericity',\n",
       "       'harmonicMomentThrust0', 'harmonicMomentThrust1',\n",
       "       'harmonicMomentThrust2', 'harmonicMomentThrust3',\n",
       "       'harmonicMomentThrust4', 'foxWolframR1', 'foxWolframR2', 'foxWolframR3',\n",
       "       'foxWolframR4', 'signal'],\n",
       "      dtype='object')"
      ]
     },
     "execution_count": 3,
     "metadata": {},
     "output_type": "execute_result"
    }
   ],
   "source": [
    "import pyarrow.parquet as pq\n",
    "import pandas as pd\n",
    "\n",
    "df = pq.read_table(\"/ceph/aavocone/Datasets/3_large.parquet\")\n",
    "df = df.to_pandas()\n",
    "df.columns\n",
    "\n",
    "clf.load_model(f\"/ceph/aavocone/PFOM_models/{models}\")\n",
    "yprob = clf.predict_proba(xtrain)[:,1]\n",
    "sh,bh,s,b,bin_edges = fc.efficiency(yprob,ytrain)\n",
    "pfom = fc.PFOM(s,b,bh,5)\n",
    "pfom_list.append(pfom)\n",
    "sig_eff.append(s)\n",
    "bg_eff.append(b)\n",
    "max_index = np.where(pfom==max(pfom))[0][0] #np.where = tuple(array[index_value]), to get index you need to specify location in tuple and in array... \n",
    "max_value = pfom[max_index]"
   ]
  },
  {
   "cell_type": "code",
   "execution_count": null,
   "metadata": {},
   "outputs": [],
   "source": []
  }
 ],
 "metadata": {
  "kernelspec": {
   "display_name": "Python 3.8.13 ('Bachelor': conda)",
   "language": "python",
   "name": "python3"
  },
  "language_info": {
   "codemirror_mode": {
    "name": "ipython",
    "version": 3
   },
   "file_extension": ".py",
   "mimetype": "text/x-python",
   "name": "python",
   "nbconvert_exporter": "python",
   "pygments_lexer": "ipython3",
   "version": "3.8.13"
  },
  "orig_nbformat": 4,
  "vscode": {
   "interpreter": {
    "hash": "8fa6b6c428d539fc06232ec94d1d357953a237439554a85c30960535ca4a6246"
   }
  }
 },
 "nbformat": 4,
 "nbformat_minor": 2
}
