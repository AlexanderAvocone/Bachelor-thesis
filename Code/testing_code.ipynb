{
 "cells": [
  {
   "cell_type": "code",
   "execution_count": 38,
   "metadata": {},
   "outputs": [
    {
     "ename": "KeyboardInterrupt",
     "evalue": "",
     "output_type": "error",
     "traceback": [
      "\u001b[0;31m---------------------------------------------------------------------------\u001b[0m",
      "\u001b[0;31mKeyboardInterrupt\u001b[0m                         Traceback (most recent call last)",
      "\u001b[1;32m/work/aavocone/Code/testing_code.ipynb Cell 1'\u001b[0m in \u001b[0;36m<cell line: 10>\u001b[0;34m()\u001b[0m\n\u001b[1;32m      <a href='vscode-notebook-cell://ssh-remote%2Bportal1/work/aavocone/Code/testing_code.ipynb#ch0000018vscode-remote?line=4'>5</a>\u001b[0m index       \u001b[39m=\u001b[39m [ \u001b[39m\"\u001b[39m\u001b[39mB_sig_K_dr\u001b[39m\u001b[39m\"\u001b[39m,\u001b[39m\"\u001b[39m\u001b[39mB_sig_K_dz\u001b[39m\u001b[39m\"\u001b[39m,\u001b[39m\"\u001b[39m\u001b[39mB_sig_CleoConeCS_3_ROE\u001b[39m\u001b[39m\"\u001b[39m, \u001b[39m\"\u001b[39m\u001b[39mthrustAxisCosTheta\u001b[39m\u001b[39m\"\u001b[39m,\u001b[39m\"\u001b[39m\u001b[39maplanarity\u001b[39m\u001b[39m\"\u001b[39m,\u001b[39m\"\u001b[39m\u001b[39msphericity\u001b[39m\u001b[39m\"\u001b[39m,\n\u001b[1;32m      <a href='vscode-notebook-cell://ssh-remote%2Bportal1/work/aavocone/Code/testing_code.ipynb#ch0000018vscode-remote?line=5'>6</a>\u001b[0m                 \u001b[39m\"\u001b[39m\u001b[39mharmonicMomentThrust0\u001b[39m\u001b[39m\"\u001b[39m,\u001b[39m\"\u001b[39m\u001b[39mharmonicMomentThrust1\u001b[39m\u001b[39m\"\u001b[39m,\u001b[39m\"\u001b[39m\u001b[39mharmonicMomentThrust2\u001b[39m\u001b[39m\"\u001b[39m,\u001b[39m\"\u001b[39m\u001b[39mharmonicMomentThrust3\u001b[39m\u001b[39m\"\u001b[39m,\u001b[39m\"\u001b[39m\u001b[39mharmonicMomentThrust4\u001b[39m\u001b[39m\"\u001b[39m,\n\u001b[1;32m      <a href='vscode-notebook-cell://ssh-remote%2Bportal1/work/aavocone/Code/testing_code.ipynb#ch0000018vscode-remote?line=6'>7</a>\u001b[0m                 \u001b[39m\"\u001b[39m\u001b[39mfoxWolframR1\u001b[39m\u001b[39m\"\u001b[39m,\u001b[39m\"\u001b[39m\u001b[39mfoxWolframR2\u001b[39m\u001b[39m\"\u001b[39m,\u001b[39m\"\u001b[39m\u001b[39mfoxWolframR3\u001b[39m\u001b[39m\"\u001b[39m,\u001b[39m\"\u001b[39m\u001b[39mfoxWolframR4\u001b[39m\u001b[39m\"\u001b[39m, \u001b[39m\"\u001b[39m\u001b[39mB_sig_isSignalAcceptMissingNeutrino\u001b[39m\u001b[39m\"\u001b[39m]\n\u001b[1;32m      <a href='vscode-notebook-cell://ssh-remote%2Bportal1/work/aavocone/Code/testing_code.ipynb#ch0000018vscode-remote?line=8'>9</a>\u001b[0m data        \u001b[39m=\u001b[39m uproot\u001b[39m.\u001b[39mopen(\u001b[39m\"\u001b[39m\u001b[39m/ceph/aavocone/Data/forAlex/processed_simulation_B_K_a_nunu_ma_3_GeV_100000_events_nobdtcut.root:tree_Bsig;1\u001b[39m\u001b[39m\"\u001b[39m)\u001b[39m.\u001b[39marrays(index, library \u001b[39m=\u001b[39m\u001b[39m\"\u001b[39m\u001b[39mpd\u001b[39m\u001b[39m\"\u001b[39m)\n\u001b[0;32m---> <a href='vscode-notebook-cell://ssh-remote%2Bportal1/work/aavocone/Code/testing_code.ipynb#ch0000018vscode-remote?line=9'>10</a>\u001b[0m charged     \u001b[39m=\u001b[39m uproot\u001b[39m.\u001b[39;49mopen(\u001b[39m'\u001b[39;49m\u001b[39m/ceph/aavocone/Data/forAlex/kplus_v34_kshort_v34_100invfb_test_nobdtcut_16812.root:tree_Bsig;1\u001b[39;49m\u001b[39m'\u001b[39;49m)\u001b[39m.\u001b[39;49marrays(index, library \u001b[39m=\u001b[39;49m\u001b[39m\"\u001b[39;49m\u001b[39mpd\u001b[39;49m\u001b[39m\"\u001b[39;49m)\n\u001b[1;32m     <a href='vscode-notebook-cell://ssh-remote%2Bportal1/work/aavocone/Code/testing_code.ipynb#ch0000018vscode-remote?line=10'>11</a>\u001b[0m mixed       \u001b[39m=\u001b[39m uproot\u001b[39m.\u001b[39mopen(\u001b[39m'\u001b[39m\u001b[39m/ceph/aavocone/Data/forAlex/kplus_v34_kshort_v34_100invfb_test_nobdtcut_16817.root:tree_Bsig;1\u001b[39m\u001b[39m'\u001b[39m)\u001b[39m.\u001b[39marrays(index, library \u001b[39m=\u001b[39m\u001b[39m\"\u001b[39m\u001b[39mpd\u001b[39m\u001b[39m\"\u001b[39m)\n\u001b[1;32m     <a href='vscode-notebook-cell://ssh-remote%2Bportal1/work/aavocone/Code/testing_code.ipynb#ch0000018vscode-remote?line=11'>12</a>\u001b[0m uu          \u001b[39m=\u001b[39m uproot\u001b[39m.\u001b[39mopen(\u001b[39m'\u001b[39m\u001b[39m/ceph/aavocone/Data/forAlex/kplus_v34_kshort_v34_100invfb_test_nobdtcut_16802.root:tree_Bsig;1\u001b[39m\u001b[39m'\u001b[39m)\u001b[39m.\u001b[39marrays(index, library \u001b[39m=\u001b[39m\u001b[39m\"\u001b[39m\u001b[39mpd\u001b[39m\u001b[39m\"\u001b[39m)\n",
      "File \u001b[0;32m/work/aavocone/anaconda3/envs/Bachelor/lib/python3.8/site-packages/uproot/behaviors/TBranch.py:1125\u001b[0m, in \u001b[0;36mHasBranches.arrays\u001b[0;34m(self, expressions, cut, filter_name, filter_typename, filter_branch, aliases, language, entry_start, entry_stop, decompression_executor, interpretation_executor, array_cache, library, how)\u001b[0m\n\u001b[1;32m   1119\u001b[0m             \u001b[39mfor\u001b[39;00m (\n\u001b[1;32m   1120\u001b[0m                 basket_num,\n\u001b[1;32m   1121\u001b[0m                 range_or_basket,\n\u001b[1;32m   1122\u001b[0m             ) \u001b[39min\u001b[39;00m branch\u001b[39m.\u001b[39mentries_to_ranges_or_baskets(entry_start, entry_stop):\n\u001b[1;32m   1123\u001b[0m                 ranges_or_baskets\u001b[39m.\u001b[39mappend((branch, basket_num, range_or_basket))\n\u001b[0;32m-> 1125\u001b[0m _ranges_or_baskets_to_arrays(\n\u001b[1;32m   1126\u001b[0m     \u001b[39mself\u001b[39;49m,\n\u001b[1;32m   1127\u001b[0m     ranges_or_baskets,\n\u001b[1;32m   1128\u001b[0m     branchid_interpretation,\n\u001b[1;32m   1129\u001b[0m     entry_start,\n\u001b[1;32m   1130\u001b[0m     entry_stop,\n\u001b[1;32m   1131\u001b[0m     decompression_executor,\n\u001b[1;32m   1132\u001b[0m     interpretation_executor,\n\u001b[1;32m   1133\u001b[0m     library,\n\u001b[1;32m   1134\u001b[0m     arrays,\n\u001b[1;32m   1135\u001b[0m     \u001b[39mFalse\u001b[39;49;00m,\n\u001b[1;32m   1136\u001b[0m )\n\u001b[1;32m   1138\u001b[0m \u001b[39m# no longer needed; save memory\u001b[39;00m\n\u001b[1;32m   1139\u001b[0m \u001b[39mdel\u001b[39;00m ranges_or_baskets\n",
      "File \u001b[0;32m/work/aavocone/anaconda3/envs/Bachelor/lib/python3.8/site-packages/uproot/behaviors/TBranch.py:3493\u001b[0m, in \u001b[0;36m_ranges_or_baskets_to_arrays\u001b[0;34m(hasbranches, ranges_or_baskets, branchid_interpretation, entry_start, entry_stop, decompression_executor, interpretation_executor, library, arrays, update_ranges_or_baskets)\u001b[0m\n\u001b[1;32m   3491\u001b[0m \u001b[39mif\u001b[39;00m \u001b[39misinstance\u001b[39m(obj, uproot\u001b[39m.\u001b[39msource\u001b[39m.\u001b[39mchunk\u001b[39m.\u001b[39mChunk):\n\u001b[1;32m   3492\u001b[0m     args \u001b[39m=\u001b[39m range_args[(obj\u001b[39m.\u001b[39mstart, obj\u001b[39m.\u001b[39mstop)]\n\u001b[0;32m-> 3493\u001b[0m     decompression_executor\u001b[39m.\u001b[39;49msubmit(chunk_to_basket, obj, \u001b[39m*\u001b[39;49margs)\n\u001b[1;32m   3495\u001b[0m \u001b[39melif\u001b[39;00m \u001b[39misinstance\u001b[39m(obj, uproot\u001b[39m.\u001b[39mmodels\u001b[39m.\u001b[39mTBasket\u001b[39m.\u001b[39mModel_TBasket):\n\u001b[1;32m   3496\u001b[0m     interpretation_executor\u001b[39m.\u001b[39msubmit(basket_to_array, obj)\n",
      "File \u001b[0;32m/work/aavocone/anaconda3/envs/Bachelor/lib/python3.8/site-packages/uproot/source/futures.py:73\u001b[0m, in \u001b[0;36mTrivialExecutor.submit\u001b[0;34m(self, task, *args)\u001b[0m\n\u001b[1;32m     69\u001b[0m \u001b[39mdef\u001b[39;00m \u001b[39msubmit\u001b[39m(\u001b[39mself\u001b[39m, task, \u001b[39m*\u001b[39margs):\n\u001b[1;32m     70\u001b[0m     \u001b[39m\"\"\"\u001b[39;00m\n\u001b[1;32m     71\u001b[0m \u001b[39m    Immediately runs ``task(*args)``.\u001b[39;00m\n\u001b[1;32m     72\u001b[0m \u001b[39m    \"\"\"\u001b[39;00m\n\u001b[0;32m---> 73\u001b[0m     \u001b[39mreturn\u001b[39;00m TrivialFuture(task(\u001b[39m*\u001b[39;49margs))\n",
      "File \u001b[0;32m/work/aavocone/anaconda3/envs/Bachelor/lib/python3.8/site-packages/uproot/behaviors/TBranch.py:3423\u001b[0m, in \u001b[0;36m_ranges_or_baskets_to_arrays.<locals>.chunk_to_basket\u001b[0;34m(chunk, branch, basket_num)\u001b[0m\n\u001b[1;32m   3421\u001b[0m \u001b[39mtry\u001b[39;00m:\n\u001b[1;32m   3422\u001b[0m     cursor \u001b[39m=\u001b[39m uproot\u001b[39m.\u001b[39msource\u001b[39m.\u001b[39mcursor\u001b[39m.\u001b[39mCursor(chunk\u001b[39m.\u001b[39mstart)\n\u001b[0;32m-> 3423\u001b[0m     basket \u001b[39m=\u001b[39m uproot\u001b[39m.\u001b[39;49mmodels\u001b[39m.\u001b[39;49mTBasket\u001b[39m.\u001b[39;49mModel_TBasket\u001b[39m.\u001b[39;49mread(\n\u001b[1;32m   3424\u001b[0m         chunk,\n\u001b[1;32m   3425\u001b[0m         cursor,\n\u001b[1;32m   3426\u001b[0m         {\u001b[39m\"\u001b[39;49m\u001b[39mbasket_num\u001b[39;49m\u001b[39m\"\u001b[39;49m: basket_num},\n\u001b[1;32m   3427\u001b[0m         hasbranches\u001b[39m.\u001b[39;49m_file,\n\u001b[1;32m   3428\u001b[0m         hasbranches\u001b[39m.\u001b[39;49m_file,\n\u001b[1;32m   3429\u001b[0m         branch,\n\u001b[1;32m   3430\u001b[0m     )\n\u001b[1;32m   3431\u001b[0m     original_index \u001b[39m=\u001b[39m range_original_index[(chunk\u001b[39m.\u001b[39mstart, chunk\u001b[39m.\u001b[39mstop)]\n\u001b[1;32m   3432\u001b[0m     \u001b[39mif\u001b[39;00m update_ranges_or_baskets:\n",
      "File \u001b[0;32m/work/aavocone/anaconda3/envs/Bachelor/lib/python3.8/site-packages/uproot/model.py:805\u001b[0m, in \u001b[0;36mModel.read\u001b[0;34m(cls, chunk, cursor, context, file, selffile, parent, concrete)\u001b[0m\n\u001b[1;32m    800\u001b[0m \u001b[39mif\u001b[39;00m context\u001b[39m.\u001b[39mget(\u001b[39m\"\u001b[39m\u001b[39mreading\u001b[39m\u001b[39m\"\u001b[39m, \u001b[39mTrue\u001b[39;00m):\n\u001b[1;32m    801\u001b[0m     \u001b[39mself\u001b[39m\u001b[39m.\u001b[39mhook_before_read_members(\n\u001b[1;32m    802\u001b[0m         chunk\u001b[39m=\u001b[39mchunk, cursor\u001b[39m=\u001b[39mcursor, context\u001b[39m=\u001b[39mcontext, file\u001b[39m=\u001b[39mfile\n\u001b[1;32m    803\u001b[0m     )\n\u001b[0;32m--> 805\u001b[0m     \u001b[39mself\u001b[39;49m\u001b[39m.\u001b[39;49mread_members(chunk, cursor, context, file)\n\u001b[1;32m    807\u001b[0m     \u001b[39mself\u001b[39m\u001b[39m.\u001b[39mhook_after_read_members(\n\u001b[1;32m    808\u001b[0m         chunk\u001b[39m=\u001b[39mchunk, cursor\u001b[39m=\u001b[39mcursor, context\u001b[39m=\u001b[39mcontext, file\u001b[39m=\u001b[39mfile\n\u001b[1;32m    809\u001b[0m     )\n\u001b[1;32m    811\u001b[0m \u001b[39mself\u001b[39m\u001b[39m.\u001b[39mcheck_numbytes(chunk, cursor, context)\n",
      "File \u001b[0;32m/work/aavocone/anaconda3/envs/Bachelor/lib/python3.8/site-packages/uproot/models/TBasket.py:223\u001b[0m, in \u001b[0;36mModel_TBasket.read_members\u001b[0;34m(self, chunk, cursor, context, file)\u001b[0m\n\u001b[1;32m    213\u001b[0m \u001b[39massert\u001b[39;00m \u001b[39misinstance\u001b[39m(\u001b[39mself\u001b[39m\u001b[39m.\u001b[39m_parent, uproot\u001b[39m.\u001b[39mbehaviors\u001b[39m.\u001b[39mTBranch\u001b[39m.\u001b[39mTBranch)\n\u001b[1;32m    214\u001b[0m \u001b[39mself\u001b[39m\u001b[39m.\u001b[39m_basket_num \u001b[39m=\u001b[39m context\u001b[39m.\u001b[39mget(\u001b[39m\"\u001b[39m\u001b[39mbasket_num\u001b[39m\u001b[39m\"\u001b[39m)\n\u001b[1;32m    216\u001b[0m (\n\u001b[1;32m    217\u001b[0m     \u001b[39mself\u001b[39m\u001b[39m.\u001b[39m_members[\u001b[39m\"\u001b[39m\u001b[39mfNbytes\u001b[39m\u001b[39m\"\u001b[39m],\n\u001b[1;32m    218\u001b[0m     \u001b[39mself\u001b[39m\u001b[39m.\u001b[39m_key_version,\n\u001b[1;32m    219\u001b[0m     \u001b[39mself\u001b[39m\u001b[39m.\u001b[39m_members[\u001b[39m\"\u001b[39m\u001b[39mfObjlen\u001b[39m\u001b[39m\"\u001b[39m],\n\u001b[1;32m    220\u001b[0m     \u001b[39mself\u001b[39m\u001b[39m.\u001b[39m_members[\u001b[39m\"\u001b[39m\u001b[39mfDatime\u001b[39m\u001b[39m\"\u001b[39m],\n\u001b[1;32m    221\u001b[0m     \u001b[39mself\u001b[39m\u001b[39m.\u001b[39m_members[\u001b[39m\"\u001b[39m\u001b[39mfKeylen\u001b[39m\u001b[39m\"\u001b[39m],\n\u001b[1;32m    222\u001b[0m     \u001b[39mself\u001b[39m\u001b[39m.\u001b[39m_members[\u001b[39m\"\u001b[39m\u001b[39mfCycle\u001b[39m\u001b[39m\"\u001b[39m],\n\u001b[0;32m--> 223\u001b[0m ) \u001b[39m=\u001b[39m cursor\u001b[39m.\u001b[39;49mfields(chunk, _tbasket_format1, context)\n\u001b[1;32m    225\u001b[0m \u001b[39m# skip the class name, name, and title\u001b[39;00m\n\u001b[1;32m    226\u001b[0m cursor\u001b[39m.\u001b[39mmove_to(\n\u001b[1;32m    227\u001b[0m     \u001b[39mself\u001b[39m\u001b[39m.\u001b[39m_cursor\u001b[39m.\u001b[39mindex \u001b[39m+\u001b[39m \u001b[39mself\u001b[39m\u001b[39m.\u001b[39m_members[\u001b[39m\"\u001b[39m\u001b[39mfKeylen\u001b[39m\u001b[39m\"\u001b[39m] \u001b[39m-\u001b[39m _tbasket_format2\u001b[39m.\u001b[39msize \u001b[39m-\u001b[39m \u001b[39m1\u001b[39m\n\u001b[1;32m    228\u001b[0m )\n",
      "File \u001b[0;32m/work/aavocone/anaconda3/envs/Bachelor/lib/python3.8/site-packages/uproot/source/cursor.py:197\u001b[0m, in \u001b[0;36mCursor.fields\u001b[0;34m(self, chunk, format, context, move)\u001b[0m\n\u001b[1;32m    195\u001b[0m \u001b[39mif\u001b[39;00m move:\n\u001b[1;32m    196\u001b[0m     \u001b[39mself\u001b[39m\u001b[39m.\u001b[39m_index \u001b[39m=\u001b[39m stop\n\u001b[0;32m--> 197\u001b[0m \u001b[39mreturn\u001b[39;00m \u001b[39mformat\u001b[39;49m\u001b[39m.\u001b[39;49munpack(chunk\u001b[39m.\u001b[39;49mget(start, stop, \u001b[39mself\u001b[39;49m, context))\n",
      "\u001b[0;31mKeyboardInterrupt\u001b[0m: "
     ]
    }
   ],
   "source": [
    "import uproot\n",
    "import numpy as np\n",
    "import pandas as pd\n",
    "\n",
    "index       = [ \"B_sig_K_dr\",\"B_sig_K_dz\",\"B_sig_CleoConeCS_3_ROE\", \"thrustAxisCosTheta\",\"aplanarity\",\"sphericity\",\n",
    "                \"harmonicMomentThrust0\",\"harmonicMomentThrust1\",\"harmonicMomentThrust2\",\"harmonicMomentThrust3\",\"harmonicMomentThrust4\",\n",
    "                \"foxWolframR1\",\"foxWolframR2\",\"foxWolframR3\",\"foxWolframR4\", \"B_sig_isSignalAcceptMissingNeutrino\"]\n",
    "\n",
    "data        = uproot.open(\"/ceph/aavocone/Data/processed_simulation_B_K_a_nunu_ma_3_GeV_100000_events_nobdtcut.root:tree_Bsig;1\").arrays(index, library =\"pd\")\n",
    "charged     = uproot.open('/ceph/aavocone/Data/kplus_v34_kshort_v34_100invfb_test_nobdtcut_16812.root:tree_Bsig;1').arrays(index, library =\"pd\")\n",
    "mixed       = uproot.open('/ceph/aavocone/Data/kplus_v34_kshort_v34_100invfb_test_nobdtcut_16817.root:tree_Bsig;1').arrays(index, library =\"pd\")\n",
    "uu          = uproot.open('/ceph/aavocone/Data/kplus_v34_kshort_v34_100invfb_test_nobdtcut_16802.root:tree_Bsig;1').arrays(index, library =\"pd\")\n",
    "cc          = uproot.open('/ceph/aavocone/Data/kplus_v34_kshort_v34_100invfb_test_nobdtcut_16792.root:tree_Bsig;1').arrays(index, library =\"pd\")\n",
    "dd          = uproot.open('/ceph/aavocone/Data/kplus_v34_kshort_v34_100invfb_test_nobdtcut_16797.root:tree_Bsig;1').arrays(index, library =\"pd\")\n",
    "ss          = uproot.open('/ceph/aavocone/Data/kplus_v34_kshort_v34_100invfb_test_nobdtcut_16807.root:tree_Bsig;1').arrays(index, library =\"pd\")\n",
    "\n",
    "sets =[data,charged,mixed,uu,cc,dd,ss]\n",
    "l=0\n",
    "for i,v in enumerate(sets):\n",
    "    if i==0:\n",
    "        v[\"signal\"]  = np.ones(len(v))\n",
    "        \n",
    "    else:\n",
    "        v[\"signal\"] = np.zeros(len(v))\n",
    "    v[\"class\"] = np.ones(len(v))*i\n",
    "    l += len(v)\n",
    "data.drop(data[data[\"B_sig_isSignalAcceptMissingNeutrino\"]==0.0].index, inplace = True)\n",
    "df = pd.concat(sets)\n",
    "\n",
    "df.to_hdf(\"/ceph/aavocone/large_set.h5\", key = \"df\", mode=\"w\")"
   ]
  },
  {
   "cell_type": "code",
   "execution_count": 27,
   "metadata": {},
   "outputs": [],
   "source": [
    "import uproot\n",
    "import numpy as np\n",
    "import pandas as pd"
   ]
  },
  {
   "cell_type": "code",
   "execution_count": 37,
   "metadata": {},
   "outputs": [
    {
     "name": "stdout",
     "output_type": "stream",
     "text": [
      "99.8 ms ± 513 µs per loop (mean ± std. dev. of 7 runs, 10 loops each)\n"
     ]
    }
   ],
   "source": [
    "%timeit pd.read_hdf(\"/work/aavocone/small_set.h5\", \"df\")\n"
   ]
  },
  {
   "cell_type": "code",
   "execution_count": 36,
   "metadata": {},
   "outputs": [
    {
     "name": "stderr",
     "output_type": "stream",
     "text": [
      "/work/aavocone/anaconda3/envs/Bachelor/lib/python3.8/site-packages/IPython/core/magics/execution.py:156: FutureWarning: In a future version of pandas all arguments of read_csv except for the argument 'filepath_or_buffer' will be keyword-only.\n",
      "  timing = self.inner(it, self.timer)\n",
      "<magic-timeit>:1: ParserWarning: Falling back to the 'python' engine because the 'c' engine does not support regex separators (separators > 1 char and different from '\\s+' are interpreted as regex); you can avoid this warning by specifying engine='python'.\n",
      "/work/aavocone/anaconda3/envs/Bachelor/lib/python3.8/site-packages/IPython/core/magics/execution.py:156: FutureWarning: In a future version of pandas all arguments of read_csv except for the argument 'filepath_or_buffer' will be keyword-only.\n",
      "  timing = self.inner(it, self.timer)\n",
      "<magic-timeit>:1: ParserWarning: Falling back to the 'python' engine because the 'c' engine does not support regex separators (separators > 1 char and different from '\\s+' are interpreted as regex); you can avoid this warning by specifying engine='python'.\n",
      "/work/aavocone/anaconda3/envs/Bachelor/lib/python3.8/site-packages/IPython/core/magics/execution.py:156: FutureWarning: In a future version of pandas all arguments of read_csv except for the argument 'filepath_or_buffer' will be keyword-only.\n",
      "  timing = self.inner(it, self.timer)\n",
      "<magic-timeit>:1: ParserWarning: Falling back to the 'python' engine because the 'c' engine does not support regex separators (separators > 1 char and different from '\\s+' are interpreted as regex); you can avoid this warning by specifying engine='python'.\n",
      "/work/aavocone/anaconda3/envs/Bachelor/lib/python3.8/site-packages/IPython/core/magics/execution.py:156: FutureWarning: In a future version of pandas all arguments of read_csv except for the argument 'filepath_or_buffer' will be keyword-only.\n",
      "  timing = self.inner(it, self.timer)\n",
      "<magic-timeit>:1: ParserWarning: Falling back to the 'python' engine because the 'c' engine does not support regex separators (separators > 1 char and different from '\\s+' are interpreted as regex); you can avoid this warning by specifying engine='python'.\n",
      "/work/aavocone/anaconda3/envs/Bachelor/lib/python3.8/site-packages/IPython/core/magics/execution.py:156: FutureWarning: In a future version of pandas all arguments of read_csv except for the argument 'filepath_or_buffer' will be keyword-only.\n",
      "  timing = self.inner(it, self.timer)\n",
      "<magic-timeit>:1: ParserWarning: Falling back to the 'python' engine because the 'c' engine does not support regex separators (separators > 1 char and different from '\\s+' are interpreted as regex); you can avoid this warning by specifying engine='python'.\n",
      "/work/aavocone/anaconda3/envs/Bachelor/lib/python3.8/site-packages/IPython/core/magics/execution.py:156: FutureWarning: In a future version of pandas all arguments of read_csv except for the argument 'filepath_or_buffer' will be keyword-only.\n",
      "  timing = self.inner(it, self.timer)\n",
      "<magic-timeit>:1: ParserWarning: Falling back to the 'python' engine because the 'c' engine does not support regex separators (separators > 1 char and different from '\\s+' are interpreted as regex); you can avoid this warning by specifying engine='python'.\n",
      "/work/aavocone/anaconda3/envs/Bachelor/lib/python3.8/site-packages/IPython/core/magics/execution.py:156: FutureWarning: In a future version of pandas all arguments of read_csv except for the argument 'filepath_or_buffer' will be keyword-only.\n",
      "  timing = self.inner(it, self.timer)\n",
      "<magic-timeit>:1: ParserWarning: Falling back to the 'python' engine because the 'c' engine does not support regex separators (separators > 1 char and different from '\\s+' are interpreted as regex); you can avoid this warning by specifying engine='python'.\n",
      "/work/aavocone/anaconda3/envs/Bachelor/lib/python3.8/site-packages/IPython/core/magics/execution.py:156: FutureWarning: In a future version of pandas all arguments of read_csv except for the argument 'filepath_or_buffer' will be keyword-only.\n",
      "  timing = self.inner(it, self.timer)\n",
      "<magic-timeit>:1: ParserWarning: Falling back to the 'python' engine because the 'c' engine does not support regex separators (separators > 1 char and different from '\\s+' are interpreted as regex); you can avoid this warning by specifying engine='python'.\n"
     ]
    },
    {
     "name": "stdout",
     "output_type": "stream",
     "text": [
      "1.74 s ± 285 ms per loop (mean ± std. dev. of 7 runs, 1 loop each)\n"
     ]
    }
   ],
   "source": [
    "%timeit pd.read_csv(\"/work/aavocone/small_set.csv\", \"df\")"
   ]
  },
  {
   "cell_type": "code",
   "execution_count": null,
   "metadata": {},
   "outputs": [
    {
     "data": {
      "text/html": [
       "<div>\n",
       "<style scoped>\n",
       "    .dataframe tbody tr th:only-of-type {\n",
       "        vertical-align: middle;\n",
       "    }\n",
       "\n",
       "    .dataframe tbody tr th {\n",
       "        vertical-align: top;\n",
       "    }\n",
       "\n",
       "    .dataframe thead th {\n",
       "        text-align: right;\n",
       "    }\n",
       "</style>\n",
       "<table border=\"1\" class=\"dataframe\">\n",
       "  <thead>\n",
       "    <tr style=\"text-align: right;\">\n",
       "      <th></th>\n",
       "      <th>B_sig_K_dr</th>\n",
       "      <th>B_sig_K_dz</th>\n",
       "      <th>B_sig_CleoConeCS_3_ROE</th>\n",
       "      <th>thrustAxisCosTheta</th>\n",
       "      <th>aplanarity</th>\n",
       "      <th>sphericity</th>\n",
       "      <th>harmonicMomentThrust0</th>\n",
       "      <th>harmonicMomentThrust1</th>\n",
       "      <th>harmonicMomentThrust2</th>\n",
       "      <th>harmonicMomentThrust3</th>\n",
       "      <th>harmonicMomentThrust4</th>\n",
       "      <th>foxWolframR1</th>\n",
       "      <th>foxWolframR2</th>\n",
       "      <th>foxWolframR3</th>\n",
       "      <th>foxWolframR4</th>\n",
       "      <th>B_sig_isSignalAcceptMissingNeutrino</th>\n",
       "      <th>signal</th>\n",
       "      <th>class</th>\n",
       "    </tr>\n",
       "  </thead>\n",
       "  <tbody>\n",
       "    <tr>\n",
       "      <th>1</th>\n",
       "      <td>0.000552</td>\n",
       "      <td>0.008028</td>\n",
       "      <td>0.445176</td>\n",
       "      <td>0.498632</td>\n",
       "      <td>0.053778</td>\n",
       "      <td>0.205663</td>\n",
       "      <td>0.464890</td>\n",
       "      <td>-0.126368</td>\n",
       "      <td>0.256069</td>\n",
       "      <td>-0.101066</td>\n",
       "      <td>0.110505</td>\n",
       "      <td>0.077050</td>\n",
       "      <td>0.305915</td>\n",
       "      <td>0.092510</td>\n",
       "      <td>0.132576</td>\n",
       "      <td>1.0</td>\n",
       "      <td>1.0</td>\n",
       "      <td>0.0</td>\n",
       "    </tr>\n",
       "    <tr>\n",
       "      <th>3</th>\n",
       "      <td>0.001343</td>\n",
       "      <td>-0.014574</td>\n",
       "      <td>0.000000</td>\n",
       "      <td>0.473281</td>\n",
       "      <td>0.103204</td>\n",
       "      <td>0.663744</td>\n",
       "      <td>0.589003</td>\n",
       "      <td>0.106267</td>\n",
       "      <td>0.147611</td>\n",
       "      <td>0.015014</td>\n",
       "      <td>-0.137382</td>\n",
       "      <td>0.046688</td>\n",
       "      <td>0.103698</td>\n",
       "      <td>0.199442</td>\n",
       "      <td>0.185047</td>\n",
       "      <td>1.0</td>\n",
       "      <td>1.0</td>\n",
       "      <td>0.0</td>\n",
       "    </tr>\n",
       "    <tr>\n",
       "      <th>5</th>\n",
       "      <td>0.000129</td>\n",
       "      <td>0.022679</td>\n",
       "      <td>0.000000</td>\n",
       "      <td>0.346607</td>\n",
       "      <td>0.063516</td>\n",
       "      <td>0.257290</td>\n",
       "      <td>0.613247</td>\n",
       "      <td>-0.201901</td>\n",
       "      <td>0.391176</td>\n",
       "      <td>-0.075176</td>\n",
       "      <td>0.276585</td>\n",
       "      <td>0.115278</td>\n",
       "      <td>0.425441</td>\n",
       "      <td>0.090597</td>\n",
       "      <td>0.341252</td>\n",
       "      <td>1.0</td>\n",
       "      <td>1.0</td>\n",
       "      <td>0.0</td>\n",
       "    </tr>\n",
       "    <tr>\n",
       "      <th>6</th>\n",
       "      <td>0.005222</td>\n",
       "      <td>-0.009289</td>\n",
       "      <td>1.337033</td>\n",
       "      <td>0.349583</td>\n",
       "      <td>0.057221</td>\n",
       "      <td>0.189610</td>\n",
       "      <td>0.557323</td>\n",
       "      <td>0.190926</td>\n",
       "      <td>0.300948</td>\n",
       "      <td>0.122741</td>\n",
       "      <td>0.198388</td>\n",
       "      <td>0.124327</td>\n",
       "      <td>0.315764</td>\n",
       "      <td>0.154302</td>\n",
       "      <td>0.281017</td>\n",
       "      <td>1.0</td>\n",
       "      <td>1.0</td>\n",
       "      <td>0.0</td>\n",
       "    </tr>\n",
       "    <tr>\n",
       "      <th>8</th>\n",
       "      <td>0.006154</td>\n",
       "      <td>0.012580</td>\n",
       "      <td>0.000000</td>\n",
       "      <td>0.484741</td>\n",
       "      <td>0.072856</td>\n",
       "      <td>0.445161</td>\n",
       "      <td>0.622265</td>\n",
       "      <td>0.140176</td>\n",
       "      <td>0.167440</td>\n",
       "      <td>0.168989</td>\n",
       "      <td>0.003366</td>\n",
       "      <td>0.061527</td>\n",
       "      <td>0.124156</td>\n",
       "      <td>0.167941</td>\n",
       "      <td>0.215300</td>\n",
       "      <td>1.0</td>\n",
       "      <td>1.0</td>\n",
       "      <td>0.0</td>\n",
       "    </tr>\n",
       "  </tbody>\n",
       "</table>\n",
       "</div>"
      ],
      "text/plain": [
       "   B_sig_K_dr  B_sig_K_dz  B_sig_CleoConeCS_3_ROE  thrustAxisCosTheta  \\\n",
       "1    0.000552    0.008028                0.445176            0.498632   \n",
       "3    0.001343   -0.014574                0.000000            0.473281   \n",
       "5    0.000129    0.022679                0.000000            0.346607   \n",
       "6    0.005222   -0.009289                1.337033            0.349583   \n",
       "8    0.006154    0.012580                0.000000            0.484741   \n",
       "\n",
       "   aplanarity  sphericity  harmonicMomentThrust0  harmonicMomentThrust1  \\\n",
       "1    0.053778    0.205663               0.464890              -0.126368   \n",
       "3    0.103204    0.663744               0.589003               0.106267   \n",
       "5    0.063516    0.257290               0.613247              -0.201901   \n",
       "6    0.057221    0.189610               0.557323               0.190926   \n",
       "8    0.072856    0.445161               0.622265               0.140176   \n",
       "\n",
       "   harmonicMomentThrust2  harmonicMomentThrust3  harmonicMomentThrust4  \\\n",
       "1               0.256069              -0.101066               0.110505   \n",
       "3               0.147611               0.015014              -0.137382   \n",
       "5               0.391176              -0.075176               0.276585   \n",
       "6               0.300948               0.122741               0.198388   \n",
       "8               0.167440               0.168989               0.003366   \n",
       "\n",
       "   foxWolframR1  foxWolframR2  foxWolframR3  foxWolframR4  \\\n",
       "1      0.077050      0.305915      0.092510      0.132576   \n",
       "3      0.046688      0.103698      0.199442      0.185047   \n",
       "5      0.115278      0.425441      0.090597      0.341252   \n",
       "6      0.124327      0.315764      0.154302      0.281017   \n",
       "8      0.061527      0.124156      0.167941      0.215300   \n",
       "\n",
       "   B_sig_isSignalAcceptMissingNeutrino  signal  class  \n",
       "1                                  1.0     1.0    0.0  \n",
       "3                                  1.0     1.0    0.0  \n",
       "5                                  1.0     1.0    0.0  \n",
       "6                                  1.0     1.0    0.0  \n",
       "8                                  1.0     1.0    0.0  "
      ]
     },
     "execution_count": 24,
     "metadata": {},
     "output_type": "execute_result"
    }
   ],
   "source": [
    "d = pd.read_hdf(\"/ceph/aavocone/small_set.h5\", \"df\")\n",
    "d.head()"
   ]
  },
  {
   "cell_type": "code",
   "execution_count": null,
   "metadata": {},
   "outputs": [],
   "source": []
  },
  {
   "cell_type": "code",
   "execution_count": null,
   "metadata": {},
   "outputs": [],
   "source": []
  },
  {
   "cell_type": "code",
   "execution_count": null,
   "metadata": {},
   "outputs": [],
   "source": []
  },
  {
   "cell_type": "code",
   "execution_count": null,
   "metadata": {},
   "outputs": [],
   "source": []
  },
  {
   "cell_type": "code",
   "execution_count": null,
   "metadata": {},
   "outputs": [],
   "source": []
  },
  {
   "cell_type": "code",
   "execution_count": null,
   "metadata": {},
   "outputs": [],
   "source": []
  },
  {
   "cell_type": "code",
   "execution_count": null,
   "metadata": {},
   "outputs": [],
   "source": []
  },
  {
   "cell_type": "code",
   "execution_count": null,
   "metadata": {},
   "outputs": [],
   "source": []
  },
  {
   "cell_type": "markdown",
   "metadata": {},
   "source": [
    "## Signal efficiency\n"
   ]
  },
  {
   "cell_type": "code",
   "execution_count": 4,
   "metadata": {},
   "outputs": [],
   "source": [
    "import numpy as np\n",
    "import pandas as pd\n",
    "import xgboost as xgb\n",
    "import matplotlib.pyplot as plt\n",
    "import functions as fc\n",
    "from sklearn.model_selection import train_test_split\n",
    "\n",
    "df = pd.read_csv(\"/work/aavocone/small_set.csv\")\n",
    "\n",
    "#test train split\n",
    "X = df[df.columns[:-3]]    #exclude \"signal\" \"classification\" \"B_sig_isSignalAcceptMissingNeutrino\"\n",
    "y = df[\"signal\"]            \n",
    "indicies = df[\"class\"]\n",
    "\n",
    "xtrain,xtest,ytrain,ytest= train_test_split(X, y, test_size = 0.33, stratify = y)\n",
    "\n",
    "xtrain,xval,ytrain,yval= train_test_split(xtrain, ytrain,  test_size = 0.5, stratify= ytrain)\n",
    "\n",
    "\n",
    "\n",
    "#to long 3m\n",
    "\n",
    "\n"
   ]
  },
  {
   "cell_type": "code",
   "execution_count": 11,
   "metadata": {},
   "outputs": [],
   "source": [
    "model = xgb.XGBClassifier()\n",
    "model.load_model(\"/work/aavocone/models/model500.txt\")\n",
    "yprob = model.predict_proba(xtest)[:,1]\n",
    "\n",
    "sh,bh,s,b,bin_edges = fc.efficiency(yprob,ytest)"
   ]
  },
  {
   "cell_type": "code",
   "execution_count": 12,
   "metadata": {},
   "outputs": [
    {
     "data": {
      "text/html": [
       "<style>#sk-container-id-3 {color: black;background-color: white;}#sk-container-id-3 pre{padding: 0;}#sk-container-id-3 div.sk-toggleable {background-color: white;}#sk-container-id-3 label.sk-toggleable__label {cursor: pointer;display: block;width: 100%;margin-bottom: 0;padding: 0.3em;box-sizing: border-box;text-align: center;}#sk-container-id-3 label.sk-toggleable__label-arrow:before {content: \"▸\";float: left;margin-right: 0.25em;color: #696969;}#sk-container-id-3 label.sk-toggleable__label-arrow:hover:before {color: black;}#sk-container-id-3 div.sk-estimator:hover label.sk-toggleable__label-arrow:before {color: black;}#sk-container-id-3 div.sk-toggleable__content {max-height: 0;max-width: 0;overflow: hidden;text-align: left;background-color: #f0f8ff;}#sk-container-id-3 div.sk-toggleable__content pre {margin: 0.2em;color: black;border-radius: 0.25em;background-color: #f0f8ff;}#sk-container-id-3 input.sk-toggleable__control:checked~div.sk-toggleable__content {max-height: 200px;max-width: 100%;overflow: auto;}#sk-container-id-3 input.sk-toggleable__control:checked~label.sk-toggleable__label-arrow:before {content: \"▾\";}#sk-container-id-3 div.sk-estimator input.sk-toggleable__control:checked~label.sk-toggleable__label {background-color: #d4ebff;}#sk-container-id-3 div.sk-label input.sk-toggleable__control:checked~label.sk-toggleable__label {background-color: #d4ebff;}#sk-container-id-3 input.sk-hidden--visually {border: 0;clip: rect(1px 1px 1px 1px);clip: rect(1px, 1px, 1px, 1px);height: 1px;margin: -1px;overflow: hidden;padding: 0;position: absolute;width: 1px;}#sk-container-id-3 div.sk-estimator {font-family: monospace;background-color: #f0f8ff;border: 1px dotted black;border-radius: 0.25em;box-sizing: border-box;margin-bottom: 0.5em;}#sk-container-id-3 div.sk-estimator:hover {background-color: #d4ebff;}#sk-container-id-3 div.sk-parallel-item::after {content: \"\";width: 100%;border-bottom: 1px solid gray;flex-grow: 1;}#sk-container-id-3 div.sk-label:hover label.sk-toggleable__label {background-color: #d4ebff;}#sk-container-id-3 div.sk-serial::before {content: \"\";position: absolute;border-left: 1px solid gray;box-sizing: border-box;top: 0;bottom: 0;left: 50%;z-index: 0;}#sk-container-id-3 div.sk-serial {display: flex;flex-direction: column;align-items: center;background-color: white;padding-right: 0.2em;padding-left: 0.2em;position: relative;}#sk-container-id-3 div.sk-item {position: relative;z-index: 1;}#sk-container-id-3 div.sk-parallel {display: flex;align-items: stretch;justify-content: center;background-color: white;position: relative;}#sk-container-id-3 div.sk-item::before, #sk-container-id-3 div.sk-parallel-item::before {content: \"\";position: absolute;border-left: 1px solid gray;box-sizing: border-box;top: 0;bottom: 0;left: 50%;z-index: -1;}#sk-container-id-3 div.sk-parallel-item {display: flex;flex-direction: column;z-index: 1;position: relative;background-color: white;}#sk-container-id-3 div.sk-parallel-item:first-child::after {align-self: flex-end;width: 50%;}#sk-container-id-3 div.sk-parallel-item:last-child::after {align-self: flex-start;width: 50%;}#sk-container-id-3 div.sk-parallel-item:only-child::after {width: 0;}#sk-container-id-3 div.sk-dashed-wrapped {border: 1px dashed gray;margin: 0 0.4em 0.5em 0.4em;box-sizing: border-box;padding-bottom: 0.4em;background-color: white;}#sk-container-id-3 div.sk-label label {font-family: monospace;font-weight: bold;display: inline-block;line-height: 1.2em;}#sk-container-id-3 div.sk-label-container {text-align: center;}#sk-container-id-3 div.sk-container {/* jupyter's `normalize.less` sets `[hidden] { display: none; }` but bootstrap.min.css set `[hidden] { display: none !important; }` so we also need the `!important` here to be able to override the default hidden behavior on the sphinx rendered scikit-learn.org. See: https://github.com/scikit-learn/scikit-learn/issues/21755 */display: inline-block !important;position: relative;}#sk-container-id-3 div.sk-text-repr-fallback {display: none;}</style><div id=\"sk-container-id-3\" class=\"sk-top-container\"><div class=\"sk-text-repr-fallback\"><pre>XGBClassifier(base_score=0.5, booster=&#x27;gbtree&#x27;, colsample_bylevel=1,\n",
       "              colsample_bynode=1, colsample_bytree=1, enable_categorical=False,\n",
       "              eval_metric=&#x27;logloss&#x27;, gamma=0, gpu_id=-1, importance_type=None,\n",
       "              interaction_constraints=&#x27;&#x27;, learning_rate=0.2, max_delta_step=0,\n",
       "              max_depth=2, min_child_weight=1, missing=nan,\n",
       "              monotone_constraints=&#x27;()&#x27;, n_estimators=500, n_jobs=128,\n",
       "              num_parallel_tree=1, predictor=&#x27;auto&#x27;, random_state=0,\n",
       "              reg_alpha=0, reg_lambda=1, scale_pos_weight=7015.748267550467,\n",
       "              subsample=1, tree_method=&#x27;auto&#x27;, use_label_encoder=False,\n",
       "              validate_parameters=1, verbosity=None)</pre><b>In a Jupyter environment, please rerun this cell to show the HTML representation or trust the notebook. <br />On GitHub, the HTML representation is unable to render, please try loading this page with nbviewer.org.</b></div><div class=\"sk-container\" hidden><div class=\"sk-item\"><div class=\"sk-estimator sk-toggleable\"><input class=\"sk-toggleable__control sk-hidden--visually\" id=\"sk-estimator-id-3\" type=\"checkbox\" checked><label for=\"sk-estimator-id-3\" class=\"sk-toggleable__label sk-toggleable__label-arrow\">XGBClassifier</label><div class=\"sk-toggleable__content\"><pre>XGBClassifier(base_score=0.5, booster=&#x27;gbtree&#x27;, colsample_bylevel=1,\n",
       "              colsample_bynode=1, colsample_bytree=1, enable_categorical=False,\n",
       "              eval_metric=&#x27;logloss&#x27;, gamma=0, gpu_id=-1, importance_type=None,\n",
       "              interaction_constraints=&#x27;&#x27;, learning_rate=0.2, max_delta_step=0,\n",
       "              max_depth=2, min_child_weight=1, missing=nan,\n",
       "              monotone_constraints=&#x27;()&#x27;, n_estimators=500, n_jobs=128,\n",
       "              num_parallel_tree=1, predictor=&#x27;auto&#x27;, random_state=0,\n",
       "              reg_alpha=0, reg_lambda=1, scale_pos_weight=7015.748267550467,\n",
       "              subsample=1, tree_method=&#x27;auto&#x27;, use_label_encoder=False,\n",
       "              validate_parameters=1, verbosity=None)</pre></div></div></div></div></div>"
      ],
      "text/plain": [
       "XGBClassifier(base_score=0.5, booster='gbtree', colsample_bylevel=1,\n",
       "              colsample_bynode=1, colsample_bytree=1, enable_categorical=False,\n",
       "              eval_metric='logloss', gamma=0, gpu_id=-1, importance_type=None,\n",
       "              interaction_constraints='', learning_rate=0.2, max_delta_step=0,\n",
       "              max_depth=2, min_child_weight=1, missing=nan,\n",
       "              monotone_constraints='()', n_estimators=500, n_jobs=128,\n",
       "              num_parallel_tree=1, predictor='auto', random_state=0,\n",
       "              reg_alpha=0, reg_lambda=1, scale_pos_weight=7015.748267550467,\n",
       "              subsample=1, tree_method='auto', use_label_encoder=False,\n",
       "              validate_parameters=1, verbosity=None)"
      ]
     },
     "execution_count": 12,
     "metadata": {},
     "output_type": "execute_result"
    }
   ],
   "source": [
    "model"
   ]
  },
  {
   "cell_type": "code",
   "execution_count": 13,
   "metadata": {},
   "outputs": [],
   "source": [
    "def efficiency(yprob,ytest):\n",
    "    bin_edges = np.linspace(0,1,101)\n",
    "    s_eff = []\n",
    "    b_eff = []\n",
    "\n",
    "    #----------------SIGNAL..............................................\n",
    "    #hist \n",
    "    s_hist= yprob*ytest \n",
    "    s_hist = s_hist[s_hist!=0]      #overwrites s_hist with an array with no 0 values\n",
    "    counts,_ = np.histogram(yprob,bins = bin_edges)\n",
    "    for i in range(len(bin_edges)):\n",
    "        s_eff.append(sum(counts[i:])/sum(counts))\n",
    "    s_eff = np.array(s_eff)\n",
    "\n",
    "\n",
    "    #----------------BACKGROUND.............................................\n",
    "    #hist \n",
    "    b_hist = yprob*(1-ytest)\n",
    "    b_hist = b_hist[b_hist != 0]     #removes the 0 values\n",
    "\n",
    "    #efficiency\n",
    "    counts,_ = np.histogram(1-yprob,bins = bin_edges)\n",
    "    \n",
    "    for i in range(len(bin_edges)):\n",
    "        b_eff.append(sum(counts[i:])/sum(counts))\n",
    "    b_eff = np.array(b_eff)\n",
    "    return s_hist, b_hist,s_eff, b_eff, bin_edges"
   ]
  },
  {
   "cell_type": "code",
   "execution_count": 14,
   "metadata": {},
   "outputs": [],
   "source": [
    "sh,bh,s,b,bin_edges = fc.efficiency(yprob,ytest)\n",
    "sh_new,bh_new,s_new,b_new,_ = efficiency(yprob,ytest)"
   ]
  },
  {
   "cell_type": "code",
   "execution_count": 15,
   "metadata": {},
   "outputs": [
    {
     "data": {
      "image/png": "[encoded data removed]",
      "text/plain": [
       "<Figure size 648x432 with 1 Axes>"
      ]
     },
     "metadata": {
      "needs_background": "light"
     },
     "output_type": "display_data"
    },
    {
     "data": {
      "image/png": "[encoded data removed]",
      "text/plain": [
       "<Figure size 648x432 with 1 Axes>"
      ]
     },
     "metadata": {
      "needs_background": "light"
     },
     "output_type": "display_data"
    }
   ],
   "source": [
    "plt.figure(figsize=(9,6))\n",
    "plt.plot(bin_edges, s, label = \"$\\epsilon_old$\", color = \"r\")\n",
    "plt.plot(bin_edges, s_new, label = \"$\\epsilon_new$\", color = \"b\")\n",
    "plt.xlabel(\"xgb probability\", fontsize = 20)\n",
    "plt.ylabel(\"signal efficiency\",fontsize=15)\n",
    "plt.title(f\"signal efficiency\", fontsize = 15)\n",
    "plt.legend()\n",
    "plt.show()\n",
    "\n",
    "plt.figure(figsize=(9,6))\n",
    "plt.plot(bin_edges, 1-b, label = \"$1-\\epsilon_old$\")\n",
    "plt.plot(bin_edges, 1-b_new, label = \"$1-\\epsilon_new$\")\n",
    "plt.xlabel(\"xgb probability\", fontsize = 20)\n",
    "plt.ylabel(\"background rejection\", fontsize = 15)\n",
    "plt.title(f\"Background rejection\", fontsize = 15)\n",
    "plt.legend()\n",
    "plt.show() "
   ]
  },
  {
   "cell_type": "code",
   "execution_count": 16,
   "metadata": {},
   "outputs": [
    {
     "data": {
      "image/png": "[encoded data removed]",
      "text/plain": [
       "<Figure size 432x288 with 1 Axes>"
      ]
     },
     "metadata": {
      "needs_background": "light"
     },
     "output_type": "display_data"
    }
   ],
   "source": [
    "def PFOM(seff,beff,bhist,n):\n",
    "    return seff/(np.sqrt(beff*sum(bhist))+n/2)\n",
    "\n",
    "bin_edges = np.linspace(0,1,101)\n",
    "\n",
    "plt.plot(bin_edges, PFOM(s,b,bh,5), label = \"n=50\", color =\"orange\")\n",
    "plt.plot(bin_edges, PFOM(s_new,b_new,bh_new,5), label = \"n=100\", color =\"r\")\n",
    "plt.title(\"Punzi figure of merit comparison for $m_A = 3.0\\:$ GeV\",fontsize=15)\n",
    "plt.ylabel(\"Punzi FOM\",fontsize=15)\n",
    "plt.xlabel(\"xgb probability\", fontsize = 20)\n",
    "plt.legend()\n",
    "\n",
    "plt.show()"
   ]
  },
  {
   "cell_type": "code",
   "execution_count": null,
   "metadata": {},
   "outputs": [],
   "source": []
  }
 ],
 "metadata": {
  "kernelspec": {
   "display_name": "Python 3.8.13 ('Bachelor': conda)",
   "language": "python",
   "name": "python3"
  },
  "language_info": {
   "codemirror_mode": {
    "name": "ipython",
    "version": 3
   },
   "file_extension": ".py",
   "mimetype": "text/x-python",
   "name": "python",
   "nbconvert_exporter": "python",
   "pygments_lexer": "ipython3",
   "version": "3.8.13"
  },
  "orig_nbformat": 4,
  "vscode": {
   "interpreter": {
    "hash": "8fa6b6c428d539fc06232ec94d1d357953a237439554a85c30960535ca4a6246"
   }
  }
 },
 "nbformat": 4,
 "nbformat_minor": 2
}
