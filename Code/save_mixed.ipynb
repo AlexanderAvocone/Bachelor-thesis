{
 "cells": [
  {
   "cell_type": "markdown",
   "metadata": {},
   "source": [
    "# load data samples\n"
   ]
  },
  {
   "cell_type": "code",
   "execution_count": 1,
   "metadata": {},
   "outputs": [],
   "source": [
    "import uproot\n",
    "import numpy as np\n",
    "import pandas as pd\n",
    "import pyarrow as pa\n",
    "import pyarrow.parquet as pq\n",
    "\n",
    "index = ['B_sig_K_dr', 'B_sig_K_dz', 'B_sig_CleoConeCS_3_ROE',\n",
    "       'thrustAxisCosTheta', 'aplanarity', 'sphericity',\n",
    "       'harmonicMomentThrust0', 'harmonicMomentThrust1',\n",
    "       'harmonicMomentThrust2', 'harmonicMomentThrust3',\n",
    "       'harmonicMomentThrust4', 'foxWolframR1', 'foxWolframR2', 'foxWolframR3',\n",
    "       'foxWolframR4','B_sig_isSignalAcceptMissingNeutrino']\n",
    "\n",
    "data0 = uproot.open(\"/ceph/aavocone/Data/processed_simulation_B_K_a_nunu_ma_0_005_GeV_100000_events_nobdtcut.root:tree_Bsig;1\").arrays(index, library =\"pd\")\n",
    "data3 = uproot.open(\"/ceph/aavocone/Data/processed_simulation_B_K_a_nunu_ma_3_GeV_100000_events_nobdtcut.root:tree_Bsig;1\").arrays(index, library =\"pd\")\n",
    "data4 = uproot.open(\"/ceph/aavocone/Data/processed_simulation_B_K_a_nunu_ma_4_6_GeV_100000_events_nobdtcut.root:tree_Bsig;1\").arrays(index, library =\"pd\")\n",
    "background = pq.read_table(f\"/ceph/aavocone/Datasets/background.parquet\")\n",
    "background = background.to_pandas()\n",
    "\n",
    "\n",
    "data0[\"signal\"]  = np.ones(len(data0))\n",
    "data3[\"signal\"]  = np.ones(len(data3))\n",
    "data4[\"signal\"]  = np.ones(len(data4))\n",
    "\n",
    "data0.drop(data0[data0[\"B_sig_isSignalAcceptMissingNeutrino\"]==0.0].index, inplace = True)\n",
    "data3.drop(data3[data3[\"B_sig_isSignalAcceptMissingNeutrino\"]==0.0].index, inplace = True)\n",
    "data4.drop(data4[data4[\"B_sig_isSignalAcceptMissingNeutrino\"]==0.0].index, inplace = True)\n",
    "\n"
   ]
  },
  {
   "cell_type": "markdown",
   "metadata": {},
   "source": [
    "## 5 MeV + 3 GeV"
   ]
  },
  {
   "cell_type": "code",
   "execution_count": 2,
   "metadata": {},
   "outputs": [],
   "source": [
    "\n",
    "sets =[data0,data3,background]\n",
    "\n",
    "df = pd.concat(sets)\n",
    "df.drop(\"B_sig_isSignalAcceptMissingNeutrino\", axis=1, inplace= True)\n",
    "table = pa.Table.from_pandas(df,nthreads = 1)\n",
    "pq.write_table(table, f\"/ceph/aavocone/Datasets/03_large.parquet\")\n"
   ]
  },
  {
   "cell_type": "markdown",
   "metadata": {},
   "source": [
    "## 5 MeV + 4.6 GeV"
   ]
  },
  {
   "cell_type": "code",
   "execution_count": 3,
   "metadata": {},
   "outputs": [],
   "source": [
    "\n",
    "sets =[data0,data4,background]\n",
    "\n",
    "df = pd.concat(sets)\n",
    "df.drop(\"B_sig_isSignalAcceptMissingNeutrino\", axis=1, inplace= True)\n",
    "table = pa.Table.from_pandas(df,nthreads = 1)\n",
    "pq.write_table(table, f\"/ceph/aavocone/Datasets/04_large.parquet\")\n"
   ]
  },
  {
   "cell_type": "markdown",
   "metadata": {},
   "source": [
    "## 3 GeV + 4.6 GeV"
   ]
  },
  {
   "cell_type": "code",
   "execution_count": 4,
   "metadata": {},
   "outputs": [],
   "source": [
    "\n",
    "sets =[data3,data4,background]\n",
    "\n",
    "df = pd.concat(sets)\n",
    "df.drop(\"B_sig_isSignalAcceptMissingNeutrino\", axis=1, inplace= True)\n",
    "table = pa.Table.from_pandas(df,nthreads = 1)\n",
    "pq.write_table(table, f\"/ceph/aavocone/Datasets/34_large.parquet\")\n"
   ]
  },
  {
   "cell_type": "markdown",
   "metadata": {},
   "source": [
    "## All samples"
   ]
  },
  {
   "cell_type": "code",
   "execution_count": 5,
   "metadata": {},
   "outputs": [],
   "source": [
    "\n",
    "sets =[data0,data3,data4,background]\n",
    "\n",
    "df = pd.concat(sets)\n",
    "df.drop(\"B_sig_isSignalAcceptMissingNeutrino\", axis=1, inplace= True)\n",
    "table = pa.Table.from_pandas(df,nthreads = 1)\n",
    "pq.write_table(table, f\"/ceph/aavocone/Datasets/all_large.parquet\")\n"
   ]
  },
  {
   "cell_type": "markdown",
   "metadata": {},
   "source": [
    "## Test if everything went fine"
   ]
  },
  {
   "cell_type": "code",
   "execution_count": 6,
   "metadata": {},
   "outputs": [
    {
     "name": "stdout",
     "output_type": "stream",
     "text": [
      "8553.0\n",
      "20067.0\n",
      "28620.0\n",
      "26090.0\n",
      "34643.0\n",
      "46157.0\n",
      "54710.0\n"
     ]
    }
   ],
   "source": [
    "data = [\"0_large\",\"3_large\",\"03_large\",\"4_large\",\"04_large\",\"34_large\",\"all_large\"]\n",
    "\n",
    "for index in data:\n",
    "    test = pq.read_table(f\"/ceph/aavocone/Datasets/{index}.parquet\")\n",
    "    test = test.to_pandas()\n",
    "    print(sum(test[\"signal\"]))\n"
   ]
  },
  {
   "cell_type": "code",
   "execution_count": null,
   "metadata": {},
   "outputs": [],
   "source": []
  }
 ],
 "metadata": {
  "kernelspec": {
   "display_name": "Python 3.8.13 ('Bachelor': conda)",
   "language": "python",
   "name": "python3"
  },
  "language_info": {
   "codemirror_mode": {
    "name": "ipython",
    "version": 3
   },
   "file_extension": ".py",
   "mimetype": "text/x-python",
   "name": "python",
   "nbconvert_exporter": "python",
   "pygments_lexer": "ipython3",
   "version": "3.8.13"
  },
  "orig_nbformat": 4,
  "vscode": {
   "interpreter": {
    "hash": "8fa6b6c428d539fc06232ec94d1d357953a237439554a85c30960535ca4a6246"
   }
  }
 },
 "nbformat": 4,
 "nbformat_minor": 2
}
