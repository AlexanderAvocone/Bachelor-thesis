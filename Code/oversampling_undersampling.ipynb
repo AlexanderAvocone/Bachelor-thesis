{
 "cells": [
  {
   "cell_type": "markdown",
   "metadata": {},
   "source": [
    "## test for overtraining\n",
    "1. split data to use overfitting/underfitting\n",
    "\n",
    "2. get accuracy score for ytest and xtest\n",
    "\n",
    "3. plot both accuracies by changing 1 parameter\n",
    "\n",
    "\n",
    "[siehe hier](https://youtu.be/AvWfL1Us3Kg?t=263)"
   ]
  },
  {
   "cell_type": "code",
   "execution_count": 1,
   "metadata": {},
   "outputs": [
    {
     "ename": "ModuleNotFoundError",
     "evalue": "No module named 'functions'",
     "output_type": "error",
     "traceback": [
      "\u001b[0;31m---------------------------------------------------------------------------\u001b[0m",
      "\u001b[0;31mModuleNotFoundError\u001b[0m                       Traceback (most recent call last)",
      "\u001b[1;32m/work/aavocone/CodePy/over_under/oversampling_undersampling.ipynb Cell 2'\u001b[0m in \u001b[0;36m<cell line: 3>\u001b[0;34m()\u001b[0m\n\u001b[1;32m      <a href='vscode-notebook-cell://ssh-remote%2Bportal1/work/aavocone/CodePy/over_under/oversampling_undersampling.ipynb#ch0000001vscode-remote?line=0'>1</a>\u001b[0m \u001b[39mimport\u001b[39;00m \u001b[39mnumpy\u001b[39;00m \u001b[39mas\u001b[39;00m \u001b[39mnp\u001b[39;00m\n\u001b[1;32m      <a href='vscode-notebook-cell://ssh-remote%2Bportal1/work/aavocone/CodePy/over_under/oversampling_undersampling.ipynb#ch0000001vscode-remote?line=1'>2</a>\u001b[0m \u001b[39mimport\u001b[39;00m \u001b[39mpandas\u001b[39;00m \u001b[39mas\u001b[39;00m \u001b[39mpd\u001b[39;00m\n\u001b[0;32m----> <a href='vscode-notebook-cell://ssh-remote%2Bportal1/work/aavocone/CodePy/over_under/oversampling_undersampling.ipynb#ch0000001vscode-remote?line=2'>3</a>\u001b[0m \u001b[39mfrom\u001b[39;00m \u001b[39mfunctions\u001b[39;00m \u001b[39mimport\u001b[39;00m load_parquet\n\u001b[1;32m      <a href='vscode-notebook-cell://ssh-remote%2Bportal1/work/aavocone/CodePy/over_under/oversampling_undersampling.ipynb#ch0000001vscode-remote?line=4'>5</a>\u001b[0m df \u001b[39m=\u001b[39m load_parquet(\u001b[39m\"\u001b[39m\u001b[39m/ceph/aavocone/Datasets/3_large.parquet\u001b[39m\u001b[39m\"\u001b[39m)\n\u001b[1;32m      <a href='vscode-notebook-cell://ssh-remote%2Bportal1/work/aavocone/CodePy/over_under/oversampling_undersampling.ipynb#ch0000001vscode-remote?line=6'>7</a>\u001b[0m df\u001b[39m.\u001b[39mdrop([\u001b[39m\"\u001b[39m\u001b[39mclass\u001b[39m\u001b[39m\"\u001b[39m,\u001b[39m\"\u001b[39m\u001b[39mcladd\u001b[39m\u001b[39m\"\u001b[39m], axis\u001b[39m=\u001b[39m\u001b[39m1\u001b[39m, inplace\u001b[39m=\u001b[39m\u001b[39mTrue\u001b[39;00m)\n",
      "\u001b[0;31mModuleNotFoundError\u001b[0m: No module named 'functions'"
     ]
    }
   ],
   "source": [
    "import numpy as np\n",
    "import pandas as pd\n",
    "from functions import load_parquet\n",
    "\n",
    "df = load_parquet(\"/ceph/aavocone/Datasets/3_large.parquet\")\n",
    "\n",
    "df.drop([\"class\",\"cladd\"], axis=1, inplace=True)\n",
    "print(df.columns)\n"
   ]
  },
  {
   "cell_type": "markdown",
   "metadata": {},
   "source": [
    "### train_test_split oversample "
   ]
  },
  {
   "cell_type": "code",
   "execution_count": null,
   "metadata": {},
   "outputs": [
    {
     "name": "stdout",
     "output_type": "stream",
     "text": [
      "Length training set:              55884543\n",
      "Number of signals in training:    9314090.0\n",
      "Length testing set:               55884543\n",
      "Number of signals in testing:     9314090.0\n",
      "Length validation set:            55050446\n",
      "Number of signals in validation:  9175074.0\n"
     ]
    }
   ],
   "source": [
    "from imblearn.over_sampling import RandomOverSampler\n",
    "from sklearn.model_selection import train_test_split\n",
    "\n",
    "\n",
    "\n",
    "x = df[df.columns[:-1]]\n",
    "y = df[\"signal\"]\n",
    "xtrain,xval,ytrain,yval = train_test_split(x, y, test_size = 0.33, stratify = y)\n",
    "xtrain,xtest,ytrain,ytest = train_test_split(xtrain, ytrain, test_size = 0.5, stratify= ytrain)\n",
    "\n",
    "over_sample = RandomOverSampler(sampling_strategy = 0.2)\n",
    "xtrain, ytrain = over_sample.fit_resample(xtrain,ytrain)\n",
    "xtest, ytest = over_sample.fit_resample(xtest,ytest)\n",
    "xval, yval = over_sample.fit_resample(xval,yval)\n",
    "\n",
    "print(\"Length training set:             \",len(ytrain))\n",
    "print(\"Number of signals in training:   \",sum(ytrain))\n",
    "print(\"Length testing set:              \",len(ytest))\n",
    "print(\"Number of signals in testing:    \",sum(ytest))\n",
    "print(\"Length validation set:           \",len(yval))\n",
    "print(\"Number of signals in validation: \",sum(yval))"
   ]
  },
  {
   "cell_type": "markdown",
   "metadata": {},
   "source": [
    "### train_test_split undersample\n"
   ]
  },
  {
   "cell_type": "code",
   "execution_count": 4,
   "metadata": {},
   "outputs": [
    {
     "name": "stdout",
     "output_type": "stream",
     "text": [
      "Index(['B_sig_K_dr', 'B_sig_K_dz', 'B_sig_CleoConeCS_3_ROE',\n",
      "       'thrustAxisCosTheta', 'aplanarity', 'sphericity',\n",
      "       'harmonicMomentThrust0', 'harmonicMomentThrust1',\n",
      "       'harmonicMomentThrust2', 'harmonicMomentThrust3',\n",
      "       'harmonicMomentThrust4', 'foxWolframR1', 'foxWolframR2', 'foxWolframR3',\n",
      "       'foxWolframR4', 'signal', 'class', 'cladd'],\n",
      "      dtype='object')\n",
      "\n",
      "\n",
      "!!!!!!!! Remove the class and cladd column !!!!!!!\n",
      "Index(['B_sig_K_dr', 'B_sig_K_dz', 'B_sig_CleoConeCS_3_ROE',\n",
      "       'thrustAxisCosTheta', 'aplanarity', 'sphericity',\n",
      "       'harmonicMomentThrust0', 'harmonicMomentThrust1',\n",
      "       'harmonicMomentThrust2', 'harmonicMomentThrust3',\n",
      "       'harmonicMomentThrust4', 'foxWolframR1', 'foxWolframR2', 'foxWolframR3',\n",
      "       'foxWolframR4', 'signal'],\n",
      "      dtype='object')\n",
      "Length undersampled set:      120402\n",
      "Number of signals :           20067.0\n"
     ]
    }
   ],
   "source": [
    "from imblearn.under_sampling import RandomUnderSampler\n",
    "import numpy as np\n",
    "import pandas as pd\n",
    "from functions import load_parquet\n",
    "\n",
    "df = load_parquet(\"/ceph/aavocone/Datasets/3_large.parquet\")\n",
    "\n",
    "df.drop([\"class\",\"cladd\"], axis=1, inplace=True)\n",
    "print(df.columns)\n",
    "\n",
    "\n",
    "x = df[df.columns[:-1]]\n",
    "y = df[\"signal\"]\n",
    "\n",
    "under_sample = RandomUnderSampler(sampling_strategy = 0.2)\n",
    "xunder, yunder = under_sample.fit_resample(x,y)\n",
    "\n",
    "print(\"Length undersampled set:     \",len(xunder))\n",
    "print(\"Number of signals :          \",sum(yunder))"
   ]
  },
  {
   "cell_type": "markdown",
   "metadata": {},
   "source": [
    "### ROC curve of the oversampled set"
   ]
  },
  {
   "cell_type": "code",
   "execution_count": 7,
   "metadata": {},
   "outputs": [
    {
     "data": {
      "image/png": "[encoded data removed]",
      "text/plain": [
       "<Figure size 648x432 with 1 Axes>"
      ]
     },
     "metadata": {
      "needs_background": "light"
     },
     "output_type": "display_data"
    }
   ],
   "source": [
    "from sklearn.metrics import roc_curve, roc_auc_score\n",
    "from xgboost import XGBClassifier\n",
    "import matplotlib.pyplot as plt\n",
    "\n",
    "weight = (len(ytrain)-sum(ytrain))/sum(ytrain)\n",
    "\n",
    "model500 = XGBClassifier()\n",
    "model500.load_model(\"/work/aavocone/models/model500.txt\")\n",
    "y500 = model500.predict_proba(xtest)[:,1]\n",
    "\n",
    "\n",
    "#n=500\n",
    "auc500 =roc_auc_score(ytest,y500)\n",
    "fp500,tp500, thresh500 = roc_curve(ytest, y500)\n",
    "\n",
    "plt.figure(figsize=(9,6))\n",
    "plt.plot(fp500, tp500, label = f\"n = 500, auc = {auc500:3f}\", color =\"darkred\")\n",
    "plt.title(f\"ROC curve comparison\", fontsize = 15)\n",
    "plt.xlabel(\"FP rate \", fontsize = 20)\n",
    "plt.ylabel(\"TP rate \", fontsize = 15)\n",
    "plt.legend()\n",
    "plt.savefig(f\"/work/aavocone/week9/ROC_oversample.jpeg\")\n",
    "plt.show()"
   ]
  },
  {
   "cell_type": "markdown",
   "metadata": {},
   "source": [
    "### TO DO: mit dem ROC von vorher vergleichen und undersampling"
   ]
  },
  {
   "cell_type": "code",
   "execution_count": null,
   "metadata": {},
   "outputs": [],
   "source": []
  }
 ],
 "metadata": {
  "kernelspec": {
   "display_name": "Python 3.8.13 ('Bachelor': conda)",
   "language": "python",
   "name": "python3"
  },
  "language_info": {
   "codemirror_mode": {
    "name": "ipython",
    "version": 3
   },
   "file_extension": ".py",
   "mimetype": "text/x-python",
   "name": "python",
   "nbconvert_exporter": "python",
   "pygments_lexer": "ipython3",
   "version": "3.8.13"
  },
  "orig_nbformat": 4,
  "vscode": {
   "interpreter": {
    "hash": "8fa6b6c428d539fc06232ec94d1d357953a237439554a85c30960535ca4a6246"
   }
  }
 },
 "nbformat": 4,
 "nbformat_minor": 2
}
