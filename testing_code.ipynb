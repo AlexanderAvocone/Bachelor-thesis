{
 "cells": [
  {
   "cell_type": "markdown",
   "metadata": {},
   "source": [
    "# Functions"
   ]
  },
  {
   "cell_type": "markdown",
   "metadata": {},
   "source": [
    "## manual_classification"
   ]
  },
  {
   "cell_type": "code",
   "execution_count": 1,
   "metadata": {},
   "outputs": [
    {
     "data": {
      "text/plain": [
       "(2, 4)"
      ]
     },
     "execution_count": 1,
     "metadata": {},
     "output_type": "execute_result"
    }
   ],
   "source": [
    "import uproot\n",
    "import numpy as np\n",
    "import pandas as pd\n",
    "\n",
    "\n",
    "#root to np array\n",
    "def root_to_np(data,index):\n",
    "    x = []\n",
    "    for data_set in index:\n",
    "        x.append(data[data_set].array(library=\"np\"))\n",
    "    return x\n",
    "\n",
    "\n",
    "\n",
    "#manually classify background = 0 and signal = 1\n",
    "def manual_classification(data, true_or_false):\n",
    "    data.append(len(data[1])*[true_or_false])\n",
    "\n",
    "arr1 = np.arange(1,9).reshape(2,4)\n",
    "arr1.shape\n",
    "\n"
   ]
  },
  {
   "cell_type": "code",
   "execution_count": 36,
   "metadata": {},
   "outputs": [
    {
     "ename": "TypeError",
     "evalue": "'Int64Index' object is not callable",
     "output_type": "error",
     "traceback": [
      "\u001b[0;31m---------------------------------------------------------------------------\u001b[0m",
      "\u001b[0;31mTypeError\u001b[0m                                 Traceback (most recent call last)",
      "\u001b[1;32m/work/aavocone/Code/fixing.ipynb Cell 4'\u001b[0m in \u001b[0;36m<cell line: 11>\u001b[0;34m()\u001b[0m\n\u001b[1;32m      <a href='vscode-notebook-cell://ssh-remote%2Bportal1/work/aavocone/Code/fixing.ipynb#ch0000003vscode-remote?line=8'>9</a>\u001b[0m data\u001b[39m.\u001b[39mdrop(data[data[\u001b[39m\"\u001b[39m\u001b[39mB_sig_isSignalAcceptMissingNeutrino\u001b[39m\u001b[39m\"\u001b[39m]\u001b[39m==\u001b[39m\u001b[39m0.0\u001b[39m]\u001b[39m.\u001b[39mindex, inplace \u001b[39m=\u001b[39m \u001b[39mTrue\u001b[39;00m)\n\u001b[1;32m     <a href='vscode-notebook-cell://ssh-remote%2Bportal1/work/aavocone/Code/fixing.ipynb#ch0000003vscode-remote?line=9'>10</a>\u001b[0m df \u001b[39m=\u001b[39m pd\u001b[39m.\u001b[39mconcat([data,charged])\n\u001b[0;32m---> <a href='vscode-notebook-cell://ssh-remote%2Bportal1/work/aavocone/Code/fixing.ipynb#ch0000003vscode-remote?line=10'>11</a>\u001b[0m df\u001b[39m.\u001b[39;49mindex()\n",
      "\u001b[0;31mTypeError\u001b[0m: 'Int64Index' object is not callable"
     ]
    }
   ],
   "source": [
    "index       = [ \"B_sig_K_dr\",\"B_sig_K_dz\",\"B_sig_CleoConeCS_3_ROE\", \"thrustAxisCosTheta\",\"aplanarity\",\"sphericity\",\n",
    "                \"harmonicMomentThrust0\",\"harmonicMomentThrust1\",\"harmonicMomentThrust2\",\"harmonicMomentThrust3\",\"harmonicMomentThrust4\",\n",
    "                \"foxWolframR1\",\"foxWolframR2\",\"foxWolframR3\",\"foxWolframR4\", \"B_sig_isSignalAcceptMissingNeutrino\"]\n",
    "\n",
    "\n",
    "data        = uproot.open(\"/ceph/aavocone/Data/forAlex/processed_simulation_B_K_a_nunu_ma_3_GeV_100000_events_nobdtcut.root:tree_Bsig;1\").arrays(index,library = \"pd\")\n",
    "charged     = uproot.open('/ceph/aavocone/Data/forAlex/kplus_v34_kshort_v34_100invfb_test_nobdtcut_16812.root:tree_Bsig;1').arrays(index,library = \"pd\")\n",
    "\n",
    "data.drop(data[data[\"B_sig_isSignalAcceptMissingNeutrino\"]==0.0].index, inplace = True)\n",
    "df = pd.concat([data,charged])\n",
    "\n",
    "\n"
   ]
  },
  {
   "cell_type": "code",
   "execution_count": 3,
   "metadata": {},
   "outputs": [],
   "source": [
    "df = pd.read_csv(\"/work/aavocone/large_set.csv\")"
   ]
  },
  {
   "cell_type": "code",
   "execution_count": null,
   "metadata": {},
   "outputs": [],
   "source": []
  }
 ],
 "metadata": {
  "kernelspec": {
   "display_name": "Python 3.8.13 ('Bachelor': conda)",
   "language": "python",
   "name": "python3"
  },
  "language_info": {
   "codemirror_mode": {
    "name": "ipython",
    "version": 3
   },
   "file_extension": ".py",
   "mimetype": "text/x-python",
   "name": "python",
   "nbconvert_exporter": "python",
   "pygments_lexer": "ipython3",
   "version": "3.8.13"
  },
  "orig_nbformat": 4,
  "vscode": {
   "interpreter": {
    "hash": "8fa6b6c428d539fc06232ec94d1d357953a237439554a85c30960535ca4a6246"
   }
  }
 },
 "nbformat": 4,
 "nbformat_minor": 2
}
